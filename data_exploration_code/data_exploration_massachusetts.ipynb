{
 "cells": [
  {
   "cell_type": "code",
   "execution_count": 20,
   "metadata": {
    "executionInfo": {
     "elapsed": 356,
     "status": "ok",
     "timestamp": 1666486896947,
     "user": {
      "displayName": "Yanling Shen",
      "userId": "00933380804139221522"
     },
     "user_tz": 240
    },
    "id": "2W4GBQLzWIU_"
   },
   "outputs": [],
   "source": [
    "import pandas as pd\n",
    "import numpy as np\n",
    "import matplotlib.pyplot as plt"
   ]
  },
  {
   "cell_type": "code",
   "execution_count": 9,
   "metadata": {
    "colab": {
     "base_uri": "https://localhost:8080/",
     "height": 74
    },
    "executionInfo": {
     "elapsed": 29090,
     "status": "ok",
     "timestamp": 1666486896595,
     "user": {
      "displayName": "Yanling Shen",
      "userId": "00933380804139221522"
     },
     "user_tz": 240
    },
    "id": "9aWUgVheW1hP",
    "outputId": "a761c06d-1681-40fe-9d63-1a7d02cdffc4"
   },
   "outputs": [
    {
     "data": {
      "text/html": [
       "<div>\n",
       "<style scoped>\n",
       "    .dataframe tbody tr th:only-of-type {\n",
       "        vertical-align: middle;\n",
       "    }\n",
       "\n",
       "    .dataframe tbody tr th {\n",
       "        vertical-align: top;\n",
       "    }\n",
       "\n",
       "    .dataframe thead th {\n",
       "        text-align: right;\n",
       "    }\n",
       "</style>\n",
       "<table border=\"1\" class=\"dataframe\">\n",
       "  <thead>\n",
       "    <tr style=\"text-align: right;\">\n",
       "      <th></th>\n",
       "      <th>District Name</th>\n",
       "      <th>District Code</th>\n",
       "      <th>Subject</th>\n",
       "      <th>M+E #</th>\n",
       "      <th>M+E %</th>\n",
       "      <th>E #</th>\n",
       "      <th>E %</th>\n",
       "      <th>M #</th>\n",
       "      <th>M %</th>\n",
       "      <th>PM #</th>\n",
       "      <th>PM %</th>\n",
       "      <th>NM #</th>\n",
       "      <th>NM %</th>\n",
       "      <th>No. of Students Included</th>\n",
       "      <th>Avg. Scaled Score</th>\n",
       "      <th>SGP</th>\n",
       "      <th>Included In SGP</th>\n",
       "    </tr>\n",
       "  </thead>\n",
       "  <tbody>\n",
       "    <tr>\n",
       "      <th>0</th>\n",
       "      <td>Abby Kelley Foster Charter Public (District)</td>\n",
       "      <td>4450000</td>\n",
       "      <td>ELA</td>\n",
       "      <td>307</td>\n",
       "      <td>42</td>\n",
       "      <td>23</td>\n",
       "      <td>3</td>\n",
       "      <td>284</td>\n",
       "      <td>39</td>\n",
       "      <td>362</td>\n",
       "      <td>50</td>\n",
       "      <td>55</td>\n",
       "      <td>8</td>\n",
       "      <td>724</td>\n",
       "      <td>496.2</td>\n",
       "      <td>55.0</td>\n",
       "      <td>587</td>\n",
       "    </tr>\n",
       "    <tr>\n",
       "      <th>1</th>\n",
       "      <td>Abby Kelley Foster Charter Public (District)</td>\n",
       "      <td>4450000</td>\n",
       "      <td>MATH</td>\n",
       "      <td>255</td>\n",
       "      <td>35</td>\n",
       "      <td>16</td>\n",
       "      <td>2</td>\n",
       "      <td>239</td>\n",
       "      <td>33</td>\n",
       "      <td>405</td>\n",
       "      <td>56</td>\n",
       "      <td>64</td>\n",
       "      <td>9</td>\n",
       "      <td>724</td>\n",
       "      <td>494.0</td>\n",
       "      <td>48.0</td>\n",
       "      <td>587</td>\n",
       "    </tr>\n",
       "    <tr>\n",
       "      <th>2</th>\n",
       "      <td>Abington</td>\n",
       "      <td>10000</td>\n",
       "      <td>ELA</td>\n",
       "      <td>515</td>\n",
       "      <td>53</td>\n",
       "      <td>56</td>\n",
       "      <td>6</td>\n",
       "      <td>459</td>\n",
       "      <td>47</td>\n",
       "      <td>393</td>\n",
       "      <td>40</td>\n",
       "      <td>63</td>\n",
       "      <td>6</td>\n",
       "      <td>971</td>\n",
       "      <td>500.4</td>\n",
       "      <td>55.0</td>\n",
       "      <td>777</td>\n",
       "    </tr>\n",
       "    <tr>\n",
       "      <th>3</th>\n",
       "      <td>Abington</td>\n",
       "      <td>10000</td>\n",
       "      <td>MATH</td>\n",
       "      <td>461</td>\n",
       "      <td>47</td>\n",
       "      <td>58</td>\n",
       "      <td>6</td>\n",
       "      <td>403</td>\n",
       "      <td>41</td>\n",
       "      <td>441</td>\n",
       "      <td>45</td>\n",
       "      <td>71</td>\n",
       "      <td>7</td>\n",
       "      <td>973</td>\n",
       "      <td>499.1</td>\n",
       "      <td>63.0</td>\n",
       "      <td>776</td>\n",
       "    </tr>\n",
       "    <tr>\n",
       "      <th>4</th>\n",
       "      <td>Academy Of the Pacific Rim Charter Public (Dis...</td>\n",
       "      <td>4120000</td>\n",
       "      <td>ELA</td>\n",
       "      <td>110</td>\n",
       "      <td>35</td>\n",
       "      <td>13</td>\n",
       "      <td>4</td>\n",
       "      <td>97</td>\n",
       "      <td>31</td>\n",
       "      <td>157</td>\n",
       "      <td>50</td>\n",
       "      <td>44</td>\n",
       "      <td>14</td>\n",
       "      <td>311</td>\n",
       "      <td>493.6</td>\n",
       "      <td>45.0</td>\n",
       "      <td>289</td>\n",
       "    </tr>\n",
       "  </tbody>\n",
       "</table>\n",
       "</div>"
      ],
      "text/plain": [
       "                                       District Name  District Code Subject  \\\n",
       "0       Abby Kelley Foster Charter Public (District)        4450000     ELA   \n",
       "1       Abby Kelley Foster Charter Public (District)        4450000    MATH   \n",
       "2                                           Abington          10000     ELA   \n",
       "3                                           Abington          10000    MATH   \n",
       "4  Academy Of the Pacific Rim Charter Public (Dis...        4120000     ELA   \n",
       "\n",
       "          M+E #  M+E %           E #  E %           M #  M %          PM #  \\\n",
       "0           307     42            23    3           284   39           362   \n",
       "1           255     35            16    2           239   33           405   \n",
       "2           515     53            56    6           459   47           393   \n",
       "3           461     47            58    6           403   41           441   \n",
       "4           110     35            13    4            97   31           157   \n",
       "\n",
       "   PM %          NM #  NM % No. of Students Included  Avg. Scaled Score   SGP  \\\n",
       "0    50            55     8                      724              496.2  55.0   \n",
       "1    56            64     9                      724              494.0  48.0   \n",
       "2    40            63     6                      971              500.4  55.0   \n",
       "3    45            71     7                      973              499.1  63.0   \n",
       "4    50            44    14                      311              493.6  45.0   \n",
       "\n",
       "  Included In SGP  \n",
       "0             587  \n",
       "1             587  \n",
       "2             777  \n",
       "3             776  \n",
       "4             289  "
      ]
     },
     "execution_count": 9,
     "metadata": {},
     "output_type": "execute_result"
    }
   ],
   "source": [
    "#### analyzing 1 file of Massachusetts Data\n",
    "\n",
    "path = \"C:/Users/ameen/Desktop/Covid_learning_gap_ML_project_17_oct/datasets/massachusetts\"\n",
    "df1_path = path + \"/2017_massachusetts.xlsx\" \n",
    "df1 = pd.read_excel(df1_path,header=[0],skiprows = 1)\n",
    "\n",
    "df1.head()"
   ]
  },
  {
   "cell_type": "code",
   "execution_count": 10,
   "metadata": {
    "colab": {
     "base_uri": "https://localhost:8080/"
    },
    "executionInfo": {
     "elapsed": 119,
     "status": "ok",
     "timestamp": 1666487163229,
     "user": {
      "displayName": "Yanling Shen",
      "userId": "00933380804139221522"
     },
     "user_tz": 240
    },
    "id": "e0Bmg9kOXozW",
    "outputId": "b2b9cb2c-d227-496d-e1f5-609512610e88"
   },
   "outputs": [
    {
     "data": {
      "text/plain": [
       "Index(['District Name', 'District Code', 'Subject', 'M+E #', 'M+E %', 'E #',\n",
       "       'E %', 'M #', 'M %', 'PM #', 'PM %', 'NM #', 'NM %',\n",
       "       'No. of Students Included', 'Avg. Scaled Score', 'SGP',\n",
       "       'Included In SGP'],\n",
       "      dtype='object')"
      ]
     },
     "execution_count": 10,
     "metadata": {},
     "output_type": "execute_result"
    }
   ],
   "source": [
    "df1.columns"
   ]
  },
  {
   "cell_type": "code",
   "execution_count": 11,
   "metadata": {
    "colab": {
     "base_uri": "https://localhost:8080/"
    },
    "executionInfo": {
     "elapsed": 131,
     "status": "ok",
     "timestamp": 1666487181778,
     "user": {
      "displayName": "Yanling Shen",
      "userId": "00933380804139221522"
     },
     "user_tz": 240
    },
    "id": "kXvvzJPeXv2t",
    "outputId": "4e8b464f-f3f3-4498-8158-abb3d9e01aa0"
   },
   "outputs": [
    {
     "name": "stdout",
     "output_type": "stream",
     "text": [
      "<class 'pandas.core.frame.DataFrame'>\n",
      "RangeIndex: 716 entries, 0 to 715\n",
      "Data columns (total 17 columns):\n",
      " #   Column                    Non-Null Count  Dtype  \n",
      "---  ------                    --------------  -----  \n",
      " 0   District Name             716 non-null    object \n",
      " 1   District Code             716 non-null    int64  \n",
      " 2   Subject                   716 non-null    object \n",
      " 3   M+E #                     716 non-null    object \n",
      " 4   M+E %                     716 non-null    int64  \n",
      " 5   E #                       716 non-null    object \n",
      " 6   E %                       716 non-null    int64  \n",
      " 7   M #                       716 non-null    object \n",
      " 8   M %                       716 non-null    int64  \n",
      " 9   PM #                      716 non-null    object \n",
      " 10  PM %                      716 non-null    int64  \n",
      " 11  NM #                      716 non-null    object \n",
      " 12  NM %                      716 non-null    int64  \n",
      " 13  No. of Students Included  716 non-null    object \n",
      " 14  Avg. Scaled Score         716 non-null    float64\n",
      " 15  SGP                       706 non-null    float64\n",
      " 16  Included In SGP           714 non-null    object \n",
      "dtypes: float64(2), int64(6), object(9)\n",
      "memory usage: 95.2+ KB\n"
     ]
    }
   ],
   "source": [
    "df1.info()\n",
    "\n",
    "## average  scaled score is already a float \n",
    "## no grade info for massachusetts \n",
    "## need to ask taash about it?"
   ]
  },
  {
   "cell_type": "code",
   "execution_count": 16,
   "metadata": {
    "colab": {
     "base_uri": "https://localhost:8080/"
    },
    "executionInfo": {
     "elapsed": 139,
     "status": "ok",
     "timestamp": 1666487201548,
     "user": {
      "displayName": "Yanling Shen",
      "userId": "00933380804139221522"
     },
     "user_tz": 240
    },
    "id": "YyzhWFSoYGBm",
    "outputId": "82c18cd1-e8bc-48f9-a289-eb6c523d1d5f"
   },
   "outputs": [
    {
     "data": {
      "text/html": [
       "<div>\n",
       "<style scoped>\n",
       "    .dataframe tbody tr th:only-of-type {\n",
       "        vertical-align: middle;\n",
       "    }\n",
       "\n",
       "    .dataframe tbody tr th {\n",
       "        vertical-align: top;\n",
       "    }\n",
       "\n",
       "    .dataframe thead th {\n",
       "        text-align: right;\n",
       "    }\n",
       "</style>\n",
       "<table border=\"1\" class=\"dataframe\">\n",
       "  <thead>\n",
       "    <tr style=\"text-align: right;\">\n",
       "      <th></th>\n",
       "      <th>District Name</th>\n",
       "      <th>District Code</th>\n",
       "      <th>Subject</th>\n",
       "      <th>Avg. Scaled Score</th>\n",
       "    </tr>\n",
       "  </thead>\n",
       "  <tbody>\n",
       "    <tr>\n",
       "      <th>0</th>\n",
       "      <td>Abby Kelley Foster Charter Public (District)</td>\n",
       "      <td>4450000</td>\n",
       "      <td>ELA</td>\n",
       "      <td>496.2</td>\n",
       "    </tr>\n",
       "    <tr>\n",
       "      <th>1</th>\n",
       "      <td>Abby Kelley Foster Charter Public (District)</td>\n",
       "      <td>4450000</td>\n",
       "      <td>MATH</td>\n",
       "      <td>494.0</td>\n",
       "    </tr>\n",
       "    <tr>\n",
       "      <th>2</th>\n",
       "      <td>Abington</td>\n",
       "      <td>10000</td>\n",
       "      <td>ELA</td>\n",
       "      <td>500.4</td>\n",
       "    </tr>\n",
       "    <tr>\n",
       "      <th>3</th>\n",
       "      <td>Abington</td>\n",
       "      <td>10000</td>\n",
       "      <td>MATH</td>\n",
       "      <td>499.1</td>\n",
       "    </tr>\n",
       "    <tr>\n",
       "      <th>4</th>\n",
       "      <td>Academy Of the Pacific Rim Charter Public (Dis...</td>\n",
       "      <td>4120000</td>\n",
       "      <td>ELA</td>\n",
       "      <td>493.6</td>\n",
       "    </tr>\n",
       "  </tbody>\n",
       "</table>\n",
       "</div>"
      ],
      "text/plain": [
       "                                       District Name  District Code Subject  \\\n",
       "0       Abby Kelley Foster Charter Public (District)        4450000     ELA   \n",
       "1       Abby Kelley Foster Charter Public (District)        4450000    MATH   \n",
       "2                                           Abington          10000     ELA   \n",
       "3                                           Abington          10000    MATH   \n",
       "4  Academy Of the Pacific Rim Charter Public (Dis...        4120000     ELA   \n",
       "\n",
       "   Avg. Scaled Score  \n",
       "0              496.2  \n",
       "1              494.0  \n",
       "2              500.4  \n",
       "3              499.1  \n",
       "4              493.6  "
      ]
     },
     "execution_count": 16,
     "metadata": {},
     "output_type": "execute_result"
    }
   ],
   "source": [
    "relevant_col = ['District Name','District Code','Subject', 'Avg. Scaled Score']\n",
    "\n",
    "df2 = df1[relevant_col]\n",
    "df2.head()"
   ]
  },
  {
   "cell_type": "code",
   "execution_count": 13,
   "metadata": {
    "colab": {
     "base_uri": "https://localhost:8080/"
    },
    "executionInfo": {
     "elapsed": 121,
     "status": "ok",
     "timestamp": 1666487211351,
     "user": {
      "displayName": "Yanling Shen",
      "userId": "00933380804139221522"
     },
     "user_tz": 240
    },
    "id": "WF12BcAUYK10",
    "outputId": "24ebeaa5-ed57-4aa8-f140-e50f17303b9c"
   },
   "outputs": [
    {
     "data": {
      "text/plain": [
       "False"
      ]
     },
     "execution_count": 13,
     "metadata": {},
     "output_type": "execute_result"
    }
   ],
   "source": [
    "df2.isnull().values.any()"
   ]
  },
  {
   "cell_type": "code",
   "execution_count": 14,
   "metadata": {
    "id": "a8TV7PVpYNPl"
   },
   "outputs": [
    {
     "name": "stdout",
     "output_type": "stream",
     "text": [
      "['Abby Kelley Foster Charter Public (District)' 'Abington'\n",
      " 'Academy Of the Pacific Rim Charter Public (District)' 'Acton-Boxborough'\n",
      " 'Acushnet' 'Advanced Math and Science Academy Charter (District)'\n",
      " 'Agawam' 'Alma del Mar Charter School (District)' 'Amesbury' 'Amherst'\n",
      " 'Amherst-Pelham' 'Andover' 'Argosy Collegiate Charter School (District)'\n",
      " 'Arlington' 'Ashburnham-Westminster' 'Ashland' 'Athol-Royalston'\n",
      " 'Atlantis Charter (District)' 'Attleboro' 'Auburn' 'Avon'\n",
      " 'Ayer Shirley School District' 'Barnstable'\n",
      " 'Barnstable Community Horace Mann Charter Public (District)'\n",
      " 'Baystate Academy Charter Public School (District)' 'Bedford'\n",
      " 'Belchertown' 'Bellingham' 'Belmont'\n",
      " 'Benjamin Banneker Charter Public (District)'\n",
      " 'Benjamin Franklin Classical Charter Public (District)'\n",
      " 'Bentley Academy Charter School (District)' 'Berkley'\n",
      " 'Berkshire Arts and Technology Charter Public (District)'\n",
      " 'Berkshire Hills' 'Berlin (non-op)' 'Berlin-Boylston' 'Beverly'\n",
      " 'Billerica' 'Blackstone-Millville' 'Boston'\n",
      " 'Boston Collegiate Charter (District)'\n",
      " 'Boston Green Academy Horace Mann Charter School (District)'\n",
      " 'Boston Preparatory Charter Public (District)'\n",
      " 'Boston Renaissance Charter Public (District)' 'Bourne' 'Boxford'\n",
      " 'Boylston (non-op)' 'Braintree' 'Brewster'\n",
      " 'Bridge Boston Charter School (District)' 'Bridgewater-Raynham'\n",
      " 'Brimfield' 'Brockton' 'Brooke Charter School (District)' 'Brookfield'\n",
      " 'Brookline' 'Burlington' 'Cambridge' 'Canton'\n",
      " 'Cape Cod Lighthouse Charter (District)' 'Carlisle' 'Carver'\n",
      " 'Central Berkshire' 'Chelmsford' 'Chelsea' 'Chesterfield-Goshen'\n",
      " 'Chicopee' 'Christa McAuliffe Charter School (District)' 'Clarksburg'\n",
      " 'Clinton' 'Codman Academy Charter Public (District)' 'Cohasset'\n",
      " 'Collegiate Charter School of Lowell (District)'\n",
      " 'Community Charter School of Cambridge (District)'\n",
      " 'Community Day Charter Public School (District)'\n",
      " 'Community Day Charter Public School - Gateway (District)'\n",
      " 'Community Day Charter Public School - R. Kingman Webster (District)'\n",
      " 'Concord' 'Conservatory Lab Charter (District)' 'Conway' 'Danvers'\n",
      " 'Dartmouth' 'Dedham' 'Deerfield' 'Dennis-Yarmouth' 'Dighton-Rehoboth'\n",
      " 'Douglas' 'Dover' 'Dover-Sherborn' 'Dracut'\n",
      " 'Dudley Street Neighborhood Charter School (District)'\n",
      " 'Dudley-Charlton Reg' 'Duxbury' 'East Bridgewater' 'East Longmeadow'\n",
      " 'Eastham' 'Easthampton' 'Easton' 'Edgartown' 'Erving' 'Everett'\n",
      " 'Excel Academy Charter (District)' 'Fairhaven' 'Fall River' 'Falmouth'\n",
      " 'Farmington River Reg' 'Fitchburg' 'Florida'\n",
      " 'Four Rivers Charter Public (District)' 'Foxborough'\n",
      " 'Foxborough Regional Charter (District)' 'Framingham'\n",
      " 'Francis W. Parker Charter Essential (District)' 'Franklin'\n",
      " 'Freetown-Lakeville' 'Frontier' 'Gardner' 'Gateway' 'Georgetown'\n",
      " 'Gill-Montague' 'Global Learning Charter Public (District)' 'Gloucester'\n",
      " 'Grafton' 'Granby' 'Greater Commonwealth Virtual District' 'Greenfield'\n",
      " 'Groton-Dunstable' 'Hadley' 'Halifax' 'Hamilton-Wenham'\n",
      " 'Hampden Charter School of Science East (District)' 'Hampden-Wilbraham'\n",
      " 'Hampshire' 'Hancock' 'Hanover' 'Harvard' 'Hatfield' 'Haverhill'\n",
      " 'Hawlemont' 'Helen Y. Davis Leadership Academy Charter Public (District)'\n",
      " 'Hill View Montessori Charter Public (District)'\n",
      " 'Hilltown Cooperative Charter Public (District)' 'Hingham' 'Holbrook'\n",
      " 'Holland' 'Holliston' 'Holyoke' 'Holyoke Community Charter (District)'\n",
      " 'Hoosac Valley Regional' 'Hopedale' 'Hopkinton' 'Hudson' 'Hull'\n",
      " 'Innovation Academy Charter (District)' 'Ipswich'\n",
      " 'KIPP Academy Boston Charter School (District)'\n",
      " 'KIPP Academy Lynn Charter (District)' 'King Philip' 'Kingston'\n",
      " 'Lanesborough (non-op)' 'Lawrence'\n",
      " 'Lawrence Family Development Charter (District)'\n",
      " 'Learning First Charter Public School (District)' 'Lee' 'Leicester'\n",
      " 'Lenox' 'Leominster' 'Leverett' 'Lexington' 'Lincoln' 'Littleton'\n",
      " 'Longmeadow' 'Lowell' 'Lowell Community Charter Public (District)'\n",
      " 'Ludlow' 'Lunenburg' 'Lynn' 'Lynnfield' 'Malden'\n",
      " 'Manchester Essex Regional' 'Mansfield' 'Marblehead'\n",
      " 'Marblehead Community Charter Public (District)' 'Marion' 'Marlborough'\n",
      " 'Marshfield' \"Martha's Vineyard Charter Public School (District)\"\n",
      " 'Martin Luther King, Jr. Charter School of Excellence (District)'\n",
      " 'Masconomet' 'Mashpee' 'Match Charter Public School (District)'\n",
      " 'Mattapoisett' 'Maynard' 'Medfield' 'Medford' 'Medway' 'Melrose'\n",
      " 'Mendon-Upton' 'Methuen' 'Middleborough' 'Middleton' 'Milford' 'Millbury'\n",
      " 'Millis' 'Milton' 'Mohawk Trail' 'Monomoy Regional School District'\n",
      " 'Monson' 'Mount Greylock' 'Mystic Valley Regional Charter (District)'\n",
      " 'Nahant' 'Nantucket' 'Narragansett' 'Nashoba' 'Natick' 'Nauset' 'Needham'\n",
      " 'Neighborhood House Charter (District)' 'New Bedford'\n",
      " 'New Heights Charter School of Brockton (District)' 'New Salem-Wendell'\n",
      " 'Newburyport' 'Newton' 'Norfolk' 'North Adams' 'North Andover'\n",
      " 'North Attleborough' 'North Brookfield' 'North Middlesex' 'North Reading'\n",
      " 'Northampton' 'Northborough' 'Northbridge' 'Norton' 'Norwell' 'Norwood'\n",
      " 'Oak Bluffs' 'Old Rochester' 'Orange' 'Orleans' 'Oxford' 'Palmer'\n",
      " 'Peabody' 'Pelham' 'Pembroke' 'Pentucket' 'Petersham'\n",
      " 'Pioneer Charter School of Science (District)'\n",
      " 'Pioneer Charter School of Science II (District)' 'Pioneer Valley'\n",
      " 'Pioneer Valley Chinese Immersion Charter (District)'\n",
      " 'Pioneer Valley Performing Arts Charter Public (District)' 'Pittsfield'\n",
      " 'Plainville' 'Plymouth' 'Plympton'\n",
      " 'Prospect Hill Academy Charter (District)' 'Provincetown' 'Quabbin'\n",
      " 'Quaboag Regional' 'Quincy' 'Ralph C Mahar' 'Randolph' 'Reading' 'Revere'\n",
      " 'Richmond' 'Rising Tide Charter Public (District)'\n",
      " 'River Valley Charter (District)' 'Rochester' 'Rockland' 'Rockport'\n",
      " 'Rowe' 'Roxbury Preparatory Charter (District)' 'Salem'\n",
      " 'Salem Academy Charter (District)' 'Sandwich' 'Saugus' 'Savoy' 'Scituate'\n",
      " 'Seekonk' 'Sharon' 'Sherborn' 'Shrewsbury' 'Shutesbury'\n",
      " 'Silver Hill Horace Mann Charter (District)' 'Silver Lake'\n",
      " 'Sizer School: A North Central Charter Essential (District)' 'Somerset'\n",
      " 'Somerville' 'South Hadley' 'South Shore Charter Public (District)'\n",
      " 'Southampton' 'Southborough' 'Southbridge' 'Southern Berkshire'\n",
      " 'Southwick-Tolland-Granville Regional School District'\n",
      " 'Spencer-E Brookfield' 'Springfield'\n",
      " 'Springfield International Charter (District)' 'Stoneham' 'Stoughton'\n",
      " 'Sturbridge' 'Sudbury' 'Sunderland' 'Sutton' 'Swampscott' 'Swansea'\n",
      " 'TEC Connections Academy Commonwealth Virtual School District'\n",
      " 'Tantasqua' 'Taunton' 'Tewksbury' 'Tisbury' 'Topsfield' 'Triton' 'Truro'\n",
      " 'Tyngsborough' 'UP Academy Charter School of Boston (District)'\n",
      " 'UP Academy Charter School of Dorchester (District)' 'Up-Island Regional'\n",
      " 'Uxbridge' 'Veritas Preparatory Charter School (District)' 'Wachusett'\n",
      " 'Wakefield' 'Wales' 'Walpole' 'Waltham' 'Ware' 'Wareham' 'Watertown'\n",
      " 'Wayland' 'Webster' 'Wellesley' 'Wellfleet' 'West Boylston'\n",
      " 'West Bridgewater' 'West Springfield' 'Westborough' 'Westfield'\n",
      " 'Westford' 'Westhampton' 'Weston' 'Westport' 'Westwood' 'Weymouth'\n",
      " 'Whately' 'Whitman-Hanson' 'Williamsburg' 'Williamstown (non-op)'\n",
      " 'Wilmington' 'Winchendon' 'Winchester' 'Winthrop' 'Woburn' 'Worcester'\n",
      " 'Worthington' 'Wrentham' 'State']\n",
      "[ 4450000    10000  4120000  6000000    30000  4300000    50000  4090000\n",
      "    70000    80000  6050000    90000 35090000   100000  6100000   140000\n",
      "  6150000  4910000   160000   170000   180000  6160000   200000  4270000\n",
      " 35020000   230000   240000   250000   260000  4200000  4470000 35110000\n",
      "   270000  4140000  6180000   280000  6200000   300000   310000  6220000\n",
      "   350000  4490000  4110000  4160000  4810000   360000   380000   390000\n",
      "   400000   410000  4170000  6250000   430000   440000  4280000   450000\n",
      "   460000   480000   490000   500000  4320000   510000   520000  6350000\n",
      "   560000   570000  6320000   610000  4180000   630000   640000  4380000\n",
      "   650000 35030000  4360000  4400000  4260000  4310000   670000  4390000\n",
      "   680000   710000   720000   730000   740000  6450000  6500000   770000\n",
      "   780000  6550000   790000  4070000  6580000   820000   830000   870000\n",
      "   850000   860000   880000   890000   910000   930000  4100000   940000\n",
      "   950000   960000  6620000   970000   980000  4130000   990000  4460000\n",
      "  1000000  4780000  1010000  6650000  6700000  1030000  6720000  1050000\n",
      "  6740000  4960000  1070000  1100000  1110000 39010000  1140000  6730000\n",
      "  1170000  1180000  6750000  4990000  6800000  6830000  1210000  1220000\n",
      "  1250000  1270000  1280000  6850000  4190000  4550000  4500000  1310000\n",
      "  1330000  1350000  1360000  1370000  4530000  6030000  1380000  1390000\n",
      "  1410000  1420000  4350000  1440000  4630000  4290000  6900000  1450000\n",
      "  1480000  1490000  4540000  4860000  1500000  1510000  1520000  1530000\n",
      "  1540000  1550000  1570000  1580000  1590000  1600000  4560000  1610000\n",
      "  1620000  1630000  1640000  1650000  6980000  1670000  1680000  4640000\n",
      "  1690000  1700000  1710000  4660000  4920000  7050000  1720000  4690000\n",
      "  1730000  1740000  1750000  1760000  1770000  1780000  7100000  1810000\n",
      "  1820000  1840000  1850000  1860000  1870000  1890000  7170000  7120000\n",
      "  1910000  7150000  4700000  1960000  1970000  7200000  7250000  1980000\n",
      "  6600000  1990000  4440000  2010000 35130000  7280000  2040000  2070000\n",
      "  2080000  2090000  2110000  2120000  2150000  7350000  2170000  2100000\n",
      "  2130000  2140000  2180000  2190000  2200000  2210000  7400000  2230000\n",
      "  2240000  2260000  2270000  2290000  2300000  2310000  7450000  2340000\n",
      "  4940000 35060000  7500000  4970000  4790000  2360000  2380000  2390000\n",
      "  2400000  4870000  2420000  7530000  7780000  2430000  7550000  2440000\n",
      "  2460000  2480000  2490000  4830000  4820000  2500000  2510000  2520000\n",
      "  2530000  4840000  2580000  4850000  2610000  2620000  2630000  2640000\n",
      "  2650000  2660000  2690000  2710000  2720000  4770000  7600000  4740000\n",
      "  2730000  2740000  2780000  4880000  2750000  2760000  2770000  7650000\n",
      "  7660000  7670000  2810000  4410000  2840000  2850000  2870000  2880000\n",
      "  2890000  2900000  2910000  2920000 39020000  7700000  2930000  2950000\n",
      "  2960000  2980000  7730000  3000000  3010000  4800000 35050000  7740000\n",
      "  3040000  4980000  7750000  3050000  3060000  3070000  3080000  3090000\n",
      "  3100000  3140000  3150000  3160000  3170000  3180000  3220000  3230000\n",
      "  3320000  3210000  3250000  3260000  3270000  3300000  3310000  3350000\n",
      "  3360000  3370000  7800000  3400000  3410000  3420000  3430000  3440000\n",
      "  3460000  3470000  3480000  3490000  3500000        0]\n",
      "['ELA' 'MATH']\n",
      "[496.2 494.  500.4 499.1 493.6 490.6 509.9 514.4 495.4 498.3 511.7 512.9\n",
      " 496.9 500.2 499.7 500.6 499.8 498.1 499.  497.5 505.1 504.8 506.4 507.\n",
      " 489.1 488.1 509.3 507.2 499.2 500.9 504.2 505.4 487.2 486.7 498.6 497.6\n",
      " 498.4 504.5 502.4 501.2 496.1 498.8 495.6 496.5 503.5 504.7 491.5 489.3\n",
      " 507.3 508.9 495.7 498.9 512.3 516.  509.  492.4 501.6 501.3 499.6 500.3\n",
      " 492.3 501.8 501.4 503.6 499.3 500.  497.9 495.9 489.4 488.8 497.4 488.3\n",
      " 477.  494.7 497.  490.7 491.7 504.3 509.2 506.6 506.9 506.2 504.6 500.5\n",
      " 501.  508.7 508.3 486.9 485.4 507.8 503.3 503.7 511.3 512.1 500.1 502.8\n",
      " 506.3 507.6 515.  515.8 498.5 495.3 507.4 507.1 485.3 486.4 494.8 497.3\n",
      " 501.9 492.5 495.5 494.3 487.4 479.9 474.8 510.7 494.2 489.7 506.7 506.8\n",
      " 508.1 516.7 514.7 491.3 487.5 509.1 498.2 497.1 501.1 494.1 494.5 492.8\n",
      " 509.7 518.1 516.9 486.1 477.3 500.8 504.9 501.5 509.6 493.3 502.2 496.4\n",
      " 494.6 492.6 491.9 502.6 491.  490.8 496.7 490.2 499.5 492.  506.1 500.7\n",
      " 486.8 484.1 496.3 502.1 493.7 494.4 482.7 490.9 505.5 508.4 501.7 505.7\n",
      " 506.  510.6 510.2 495.1 493.1 492.7 493.5 485.7 494.9 487.9 502.9 479.\n",
      " 475.7 487.8 489.9 514.1 515.3 499.9 505.  503.9 487.3 484.8 480.4 498.7\n",
      " 492.1 508.2 495.8 515.6 519.3 510.1 493.  511.6 496.  511.2 506.5 503.2\n",
      " 505.3 503.8 491.6 492.2 499.4 488.5 509.5 507.5 507.7 505.2 510.4 505.9\n",
      " 497.8 514.9 490.5 510.5 503.4 502.7 488.6 487.  484.9 503.1 508.6 510.\n",
      " 490.4 504.1 502.3 508.  497.7 484.  505.8 496.6 493.4 502.5 497.2 483.8\n",
      " 502.  509.8 512.  503.  498.  492.9 496.8 505.6 495.2 491.1 508.8 512.2\n",
      " 495.  517.3 481.9 480.9 485.9 489.8 510.8 482.9 513.9 485.6 488.2 513.5\n",
      " 482.4 478.5 511.  515.2 511.5 514.  512.5 491.2 489.5]\n"
     ]
    }
   ],
   "source": [
    "for col in df2:\n",
    "    print(df2[col].unique())\n",
    "    \n",
    "## mean scale score has star value that needs to be removed"
   ]
  },
  {
   "cell_type": "code",
   "execution_count": 22,
   "metadata": {},
   "outputs": [
    {
     "data": {
      "image/png": "[encoded data removed]",
      "text/plain": [
       "<Figure size 640x480 with 1 Axes>"
      ]
     },
     "metadata": {},
     "output_type": "display_data"
    }
   ],
   "source": [
    "(df2['Avg. Scaled Score'].value_counts().sort_values(ascending = True)).hist()\n",
    "plt.show()\n",
    "## no garbage values in avg.scaled score"
   ]
  }
 ],
 "metadata": {
  "colab": {
   "authorship_tag": "ABX9TyPHIva8rnWoOrFFOYGibZxq",
   "provenance": []
  },
  "kernelspec": {
   "display_name": "Python 3 (ipykernel)",
   "language": "python",
   "name": "python3"
  },
  "language_info": {
   "codemirror_mode": {
    "name": "ipython",
    "version": 3
   },
   "file_extension": ".py",
   "mimetype": "text/x-python",
   "name": "python",
   "nbconvert_exporter": "python",
   "pygments_lexer": "ipython3",
   "version": "3.9.13"
  }
 },
 "nbformat": 4,
 "nbformat_minor": 1
}
