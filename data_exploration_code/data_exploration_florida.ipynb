{
 "cells": [
  {
   "cell_type": "code",
   "execution_count": 1,
   "id": "0c7145bb",
   "metadata": {},
   "outputs": [],
   "source": [
    "import numpy as np\n",
    "import pandas as pd"
   ]
  },
  {
   "cell_type": "code",
   "execution_count": 18,
   "id": "9d8d1593",
   "metadata": {},
   "outputs": [
    {
     "data": {
      "text/html": [
       "<div>\n",
       "<style scoped>\n",
       "    .dataframe tbody tr th:only-of-type {\n",
       "        vertical-align: middle;\n",
       "    }\n",
       "\n",
       "    .dataframe tbody tr th {\n",
       "        vertical-align: top;\n",
       "    }\n",
       "\n",
       "    .dataframe thead th {\n",
       "        text-align: right;\n",
       "    }\n",
       "</style>\n",
       "<table border=\"1\" class=\"dataframe\">\n",
       "  <thead>\n",
       "    <tr style=\"text-align: right;\">\n",
       "      <th></th>\n",
       "      <th>District Number</th>\n",
       "      <th>District Name</th>\n",
       "      <th>Grade</th>\n",
       "      <th>Number of Students</th>\n",
       "      <th>Mean Scale Score</th>\n",
       "      <th>Percentage in Level 3 or Above</th>\n",
       "      <th>1</th>\n",
       "      <th>2</th>\n",
       "      <th>3</th>\n",
       "      <th>4</th>\n",
       "      <th>5</th>\n",
       "    </tr>\n",
       "  </thead>\n",
       "  <tbody>\n",
       "    <tr>\n",
       "      <th>0</th>\n",
       "      <td>0</td>\n",
       "      <td>STATE TOTALS</td>\n",
       "      <td>3</td>\n",
       "      <td>228104</td>\n",
       "      <td>303</td>\n",
       "      <td>58</td>\n",
       "      <td>19</td>\n",
       "      <td>23</td>\n",
       "      <td>28</td>\n",
       "      <td>21</td>\n",
       "      <td>9</td>\n",
       "    </tr>\n",
       "    <tr>\n",
       "      <th>1</th>\n",
       "      <td>1</td>\n",
       "      <td>ALACHUA</td>\n",
       "      <td>3</td>\n",
       "      <td>2457</td>\n",
       "      <td>303</td>\n",
       "      <td>56</td>\n",
       "      <td>20</td>\n",
       "      <td>24</td>\n",
       "      <td>25</td>\n",
       "      <td>20</td>\n",
       "      <td>11</td>\n",
       "    </tr>\n",
       "    <tr>\n",
       "      <th>2</th>\n",
       "      <td>2</td>\n",
       "      <td>BAKER</td>\n",
       "      <td>3</td>\n",
       "      <td>388</td>\n",
       "      <td>305</td>\n",
       "      <td>64</td>\n",
       "      <td>10</td>\n",
       "      <td>26</td>\n",
       "      <td>34</td>\n",
       "      <td>24</td>\n",
       "      <td>6</td>\n",
       "    </tr>\n",
       "    <tr>\n",
       "      <th>3</th>\n",
       "      <td>3</td>\n",
       "      <td>BAY</td>\n",
       "      <td>3</td>\n",
       "      <td>2267</td>\n",
       "      <td>303</td>\n",
       "      <td>59</td>\n",
       "      <td>16</td>\n",
       "      <td>25</td>\n",
       "      <td>33</td>\n",
       "      <td>19</td>\n",
       "      <td>7</td>\n",
       "    </tr>\n",
       "    <tr>\n",
       "      <th>4</th>\n",
       "      <td>4</td>\n",
       "      <td>BRADFORD</td>\n",
       "      <td>3</td>\n",
       "      <td>244</td>\n",
       "      <td>298</td>\n",
       "      <td>44</td>\n",
       "      <td>19</td>\n",
       "      <td>37</td>\n",
       "      <td>29</td>\n",
       "      <td>14</td>\n",
       "      <td>2</td>\n",
       "    </tr>\n",
       "  </tbody>\n",
       "</table>\n",
       "</div>"
      ],
      "text/plain": [
       "   District Number District Name  Grade  Number of Students  \\\n",
       "0                0  STATE TOTALS      3              228104   \n",
       "1                1       ALACHUA      3                2457   \n",
       "2                2         BAKER      3                 388   \n",
       "3                3           BAY      3                2267   \n",
       "4                4      BRADFORD      3                 244   \n",
       "\n",
       "   Mean Scale Score   Percentage in Level 3 or Above   1   2   3   4   5  \n",
       "0                303                              58  19  23  28  21   9  \n",
       "1                303                              56  20  24  25  20  11  \n",
       "2                305                              64  10  26  34  24   6  \n",
       "3                303                              59  16  25  33  19   7  \n",
       "4                298                              44  19  37  29  14   2  "
      ]
     },
     "execution_count": 18,
     "metadata": {},
     "output_type": "execute_result"
    }
   ],
   "source": [
    "#### analyzing 1 file of florida Data for English\n",
    "\n",
    "path = \"C:/Users/ameen/Desktop/Covid_learning_gap_ML_project_17_oct/datasets/florida/english/2017\"\n",
    "grade = 3\n",
    "df1 = pd.DataFrame()\n",
    "\n",
    "while grade < 8:\n",
    "    df = pd.read_excel(path+'/grade_'+str(grade)+'_ela.xls')\n",
    "    df1 = pd.concat([df1,df])\n",
    "    grade += 1\n",
    "    \n",
    "df1.head()"
   ]
  },
  {
   "cell_type": "code",
   "execution_count": 21,
   "id": "71d0337e",
   "metadata": {},
   "outputs": [
    {
     "data": {
      "text/plain": [
       "Index([               'District Number',                  'District Name',\n",
       "                                'Grade',             'Number of Students',\n",
       "                    'Mean Scale Score ', 'Percentage in Level 3 or Above',\n",
       "                                      1,                                2,\n",
       "                                      3,                                4,\n",
       "                                      5],\n",
       "      dtype='object')"
      ]
     },
     "execution_count": 21,
     "metadata": {},
     "output_type": "execute_result"
    }
   ],
   "source": [
    "df1.columns"
   ]
  },
  {
   "cell_type": "code",
   "execution_count": 22,
   "id": "6c2aaf2f",
   "metadata": {},
   "outputs": [
    {
     "name": "stdout",
     "output_type": "stream",
     "text": [
      "<class 'pandas.core.frame.DataFrame'>\n",
      "Int64Index: 370 entries, 0 to 73\n",
      "Data columns (total 11 columns):\n",
      " #   Column                          Non-Null Count  Dtype \n",
      "---  ------                          --------------  ----- \n",
      " 0   District Number                 370 non-null    int64 \n",
      " 1   District Name                   370 non-null    object\n",
      " 2   Grade                           370 non-null    int64 \n",
      " 3   Number of Students              370 non-null    int64 \n",
      " 4   Mean Scale Score                370 non-null    int64 \n",
      " 5   Percentage in Level 3 or Above  370 non-null    int64 \n",
      " 6   1                               370 non-null    int64 \n",
      " 7   2                               370 non-null    int64 \n",
      " 8   3                               370 non-null    int64 \n",
      " 9   4                               370 non-null    int64 \n",
      " 10  5                               370 non-null    int64 \n",
      "dtypes: int64(10), object(1)\n",
      "memory usage: 34.7+ KB\n"
     ]
    }
   ],
   "source": [
    "df1.info()\n",
    "\n",
    "##mean scale score is int so no need to change"
   ]
  },
  {
   "cell_type": "code",
   "execution_count": 24,
   "id": "a61305c3",
   "metadata": {},
   "outputs": [
    {
     "data": {
      "text/html": [
       "<div>\n",
       "<style scoped>\n",
       "    .dataframe tbody tr th:only-of-type {\n",
       "        vertical-align: middle;\n",
       "    }\n",
       "\n",
       "    .dataframe tbody tr th {\n",
       "        vertical-align: top;\n",
       "    }\n",
       "\n",
       "    .dataframe thead th {\n",
       "        text-align: right;\n",
       "    }\n",
       "</style>\n",
       "<table border=\"1\" class=\"dataframe\">\n",
       "  <thead>\n",
       "    <tr style=\"text-align: right;\">\n",
       "      <th></th>\n",
       "      <th>District Number</th>\n",
       "      <th>District Name</th>\n",
       "      <th>Grade</th>\n",
       "      <th>Mean Scale Score</th>\n",
       "    </tr>\n",
       "  </thead>\n",
       "  <tbody>\n",
       "    <tr>\n",
       "      <th>0</th>\n",
       "      <td>0</td>\n",
       "      <td>STATE TOTALS</td>\n",
       "      <td>3</td>\n",
       "      <td>303</td>\n",
       "    </tr>\n",
       "    <tr>\n",
       "      <th>1</th>\n",
       "      <td>1</td>\n",
       "      <td>ALACHUA</td>\n",
       "      <td>3</td>\n",
       "      <td>303</td>\n",
       "    </tr>\n",
       "    <tr>\n",
       "      <th>2</th>\n",
       "      <td>2</td>\n",
       "      <td>BAKER</td>\n",
       "      <td>3</td>\n",
       "      <td>305</td>\n",
       "    </tr>\n",
       "    <tr>\n",
       "      <th>3</th>\n",
       "      <td>3</td>\n",
       "      <td>BAY</td>\n",
       "      <td>3</td>\n",
       "      <td>303</td>\n",
       "    </tr>\n",
       "    <tr>\n",
       "      <th>4</th>\n",
       "      <td>4</td>\n",
       "      <td>BRADFORD</td>\n",
       "      <td>3</td>\n",
       "      <td>298</td>\n",
       "    </tr>\n",
       "  </tbody>\n",
       "</table>\n",
       "</div>"
      ],
      "text/plain": [
       "   District Number District Name  Grade  Mean Scale Score \n",
       "0                0  STATE TOTALS      3                303\n",
       "1                1       ALACHUA      3                303\n",
       "2                2         BAKER      3                305\n",
       "3                3           BAY      3                303\n",
       "4                4      BRADFORD      3                298"
      ]
     },
     "execution_count": 24,
     "metadata": {},
     "output_type": "execute_result"
    }
   ],
   "source": [
    "relevant_col = ['District Number','District Name','Grade', 'Mean Scale Score ']\n",
    "\n",
    "df2 = df1[relevant_col]\n",
    "df2.head()"
   ]
  },
  {
   "cell_type": "code",
   "execution_count": 25,
   "id": "ba43650d",
   "metadata": {},
   "outputs": [
    {
     "name": "stdout",
     "output_type": "stream",
     "text": [
      "[ 0  1  2  3  4  5  6  7  8  9 10 11 12 13 14 15 16 17 18 19 20 21 22 23\n",
      " 24 25 26 27 28 29 30 31 32 33 34 35 36 37 38 39 40 41 42 43 44 45 46 47\n",
      " 48 49 50 51 52 53 54 55 56 57 58 59 60 61 62 63 64 65 66 67 68 71 72 73\n",
      " 74 75]\n",
      "['STATE TOTALS' 'ALACHUA' 'BAKER' 'BAY' 'BRADFORD' 'BREVARD' 'BROWARD'\n",
      " 'CALHOUN' 'CHARLOTTE' 'CITRUS' 'CLAY' 'COLLIER' 'COLUMBIA' 'DADE'\n",
      " 'DESOTO' 'DIXIE' 'DUVAL' 'ESCAMBIA' 'FLAGLER' 'FRANKLIN' 'GADSDEN'\n",
      " 'GILCHRIST' 'GLADES' 'GULF' 'HAMILTON' 'HARDEE' 'HENDRY' 'HERNANDO'\n",
      " 'HIGHLANDS' 'HILLSBOROUGH' 'HOLMES' 'INDIAN RIVER' 'JACKSON' 'JEFFERSON'\n",
      " 'LAFAYETTE' 'LAKE' 'LEE' 'LEON' 'LEVY' 'LIBERTY' 'MADISON' 'MANATEE'\n",
      " 'MARION' 'MARTIN' 'MONROE' 'NASSAU' 'OKALOOSA' 'OKEECHOBEE' 'ORANGE'\n",
      " 'OSCEOLA' 'PALM BEACH' 'PASCO' 'PINELLAS' 'POLK' 'PUTNAM' 'ST. JOHNS'\n",
      " 'ST. LUCIE' 'SANTA ROSA' 'SARASOTA' 'SEMINOLE' 'SUMTER' 'SUWANNEE'\n",
      " 'TAYLOR' 'UNION' 'VOLUSIA' 'WAKULLA' 'WALTON' 'WASHINGTON' 'DEAF/BLIND'\n",
      " 'FL VIRTUAL' 'FAU LAB SCH' 'FSU LAB SCH' 'FAMU LAB SCH' 'UF LAB SCH']\n",
      "[3 4 5 6 7]\n",
      "[303 305 298 306 302 308 290 300 292 301 293 297 304 299 307 312 295 314\n",
      " 310 309 274 315 311 313 294 318 317 321 319 316 287 324 323 320 322 325\n",
      " 326 330 333 328 337 329 327 331 336 332 335 334 338 344 339 342 346 340]\n"
     ]
    }
   ],
   "source": [
    "for col in df2:\n",
    "    print(df2[col].unique())\n",
    "    \n",
    "## mean scale score doesnt have any absurd scores"
   ]
  },
  {
   "cell_type": "code",
   "execution_count": 26,
   "id": "cb42c480",
   "metadata": {},
   "outputs": [
    {
     "name": "stdout",
     "output_type": "stream",
     "text": [
      "couunt of NA values in District Number\n",
      "0\n",
      "couunt of NA values in District Name\n",
      "0\n",
      "couunt of NA values in Grade\n",
      "0\n",
      "couunt of NA values in Mean Scale Score \n",
      "0\n"
     ]
    }
   ],
   "source": [
    "for col in df2:\n",
    "    print(\"couunt of NA values in\", col)\n",
    "    print(df2[col].isnull().sum())"
   ]
  },
  {
   "cell_type": "code",
   "execution_count": 27,
   "id": "849b2b40",
   "metadata": {},
   "outputs": [
    {
     "name": "stdout",
     "output_type": "stream",
     "text": [
      "<class 'pandas.core.frame.DataFrame'>\n",
      "Int64Index: 370 entries, 0 to 73\n",
      "Data columns (total 4 columns):\n",
      " #   Column             Non-Null Count  Dtype \n",
      "---  ------             --------------  ----- \n",
      " 0   District Number    370 non-null    int64 \n",
      " 1   District Name      370 non-null    object\n",
      " 2   Grade              370 non-null    int64 \n",
      " 3   Mean Scale Score   370 non-null    int64 \n",
      "dtypes: int64(3), object(1)\n",
      "memory usage: 14.5+ KB\n"
     ]
    }
   ],
   "source": [
    "df2.info()\n",
    "\n",
    "## mean scale score needs to be converted to int value"
   ]
  },
  {
   "cell_type": "code",
   "execution_count": 64,
   "id": "09264a0e",
   "metadata": {},
   "outputs": [
    {
     "data": {
      "text/html": [
       "<div>\n",
       "<style scoped>\n",
       "    .dataframe tbody tr th:only-of-type {\n",
       "        vertical-align: middle;\n",
       "    }\n",
       "\n",
       "    .dataframe tbody tr th {\n",
       "        vertical-align: top;\n",
       "    }\n",
       "\n",
       "    .dataframe thead th {\n",
       "        text-align: right;\n",
       "    }\n",
       "</style>\n",
       "<table border=\"1\" class=\"dataframe\">\n",
       "  <thead>\n",
       "    <tr style=\"text-align: right;\">\n",
       "      <th></th>\n",
       "      <th>District Number</th>\n",
       "      <th>District Name</th>\n",
       "      <th>Grade</th>\n",
       "      <th>Number of Students</th>\n",
       "      <th>Mean Scale Score</th>\n",
       "      <th>Percentage in Level 3 or Above</th>\n",
       "      <th>1</th>\n",
       "      <th>2</th>\n",
       "      <th>3</th>\n",
       "      <th>4</th>\n",
       "      <th>5</th>\n",
       "      <th>Percentage \\nLevel 3 or Above</th>\n",
       "      <th>Achievement Levels 3 and Above</th>\n",
       "    </tr>\n",
       "  </thead>\n",
       "  <tbody>\n",
       "    <tr>\n",
       "      <th>0</th>\n",
       "      <td>1</td>\n",
       "      <td>ALACHUA</td>\n",
       "      <td>3</td>\n",
       "      <td>2480</td>\n",
       "      <td>302</td>\n",
       "      <td>60.0</td>\n",
       "      <td>22</td>\n",
       "      <td>18</td>\n",
       "      <td>24</td>\n",
       "      <td>22</td>\n",
       "      <td>13</td>\n",
       "      <td>NaN</td>\n",
       "      <td>NaN</td>\n",
       "    </tr>\n",
       "    <tr>\n",
       "      <th>1</th>\n",
       "      <td>2</td>\n",
       "      <td>BAKER</td>\n",
       "      <td>3</td>\n",
       "      <td>388</td>\n",
       "      <td>307</td>\n",
       "      <td>75.0</td>\n",
       "      <td>7</td>\n",
       "      <td>18</td>\n",
       "      <td>36</td>\n",
       "      <td>29</td>\n",
       "      <td>11</td>\n",
       "      <td>NaN</td>\n",
       "      <td>NaN</td>\n",
       "    </tr>\n",
       "    <tr>\n",
       "      <th>2</th>\n",
       "      <td>3</td>\n",
       "      <td>BAY</td>\n",
       "      <td>3</td>\n",
       "      <td>2277</td>\n",
       "      <td>299</td>\n",
       "      <td>56.0</td>\n",
       "      <td>21</td>\n",
       "      <td>22</td>\n",
       "      <td>27</td>\n",
       "      <td>21</td>\n",
       "      <td>8</td>\n",
       "      <td>NaN</td>\n",
       "      <td>NaN</td>\n",
       "    </tr>\n",
       "    <tr>\n",
       "      <th>3</th>\n",
       "      <td>4</td>\n",
       "      <td>BRADFORD</td>\n",
       "      <td>3</td>\n",
       "      <td>242</td>\n",
       "      <td>297</td>\n",
       "      <td>50.0</td>\n",
       "      <td>23</td>\n",
       "      <td>26</td>\n",
       "      <td>31</td>\n",
       "      <td>14</td>\n",
       "      <td>5</td>\n",
       "      <td>NaN</td>\n",
       "      <td>NaN</td>\n",
       "    </tr>\n",
       "    <tr>\n",
       "      <th>4</th>\n",
       "      <td>5</td>\n",
       "      <td>BREVARD</td>\n",
       "      <td>3</td>\n",
       "      <td>5639</td>\n",
       "      <td>302</td>\n",
       "      <td>63.0</td>\n",
       "      <td>17</td>\n",
       "      <td>20</td>\n",
       "      <td>29</td>\n",
       "      <td>23</td>\n",
       "      <td>11</td>\n",
       "      <td>NaN</td>\n",
       "      <td>NaN</td>\n",
       "    </tr>\n",
       "  </tbody>\n",
       "</table>\n",
       "</div>"
      ],
      "text/plain": [
       "   District Number District Name  Grade  Number of Students  \\\n",
       "0                1       ALACHUA      3                2480   \n",
       "1                2         BAKER      3                 388   \n",
       "2                3           BAY      3                2277   \n",
       "3                4      BRADFORD      3                 242   \n",
       "4                5       BREVARD      3                5639   \n",
       "\n",
       "   Mean Scale Score   Percentage in Level 3 or Above   1   2   3   4   5  \\\n",
       "0                302                            60.0  22  18  24  22  13   \n",
       "1                307                            75.0   7  18  36  29  11   \n",
       "2                299                            56.0  21  22  27  21   8   \n",
       "3                297                            50.0  23  26  31  14   5   \n",
       "4                302                            63.0  17  20  29  23  11   \n",
       "\n",
       "   Percentage \\nLevel 3 or Above  Achievement Levels 3 and Above  \n",
       "0                            NaN                             NaN  \n",
       "1                            NaN                             NaN  \n",
       "2                            NaN                             NaN  \n",
       "3                            NaN                             NaN  \n",
       "4                            NaN                             NaN  "
      ]
     },
     "execution_count": 64,
     "metadata": {},
     "output_type": "execute_result"
    }
   ],
   "source": [
    "#### analyzing 1 file of florida Data for English\n",
    "\n",
    "path = \"C:/Users/ameen/Desktop/Covid_learning_gap_ML_project_17_oct/datasets/florida/maths/2017\"\n",
    "grade = 3\n",
    "df1 = pd.DataFrame()\n",
    "\n",
    "while grade < 8:\n",
    "    df = pd.read_excel(path+'/'+str(grade)+'.xls')\n",
    "    df1 = pd.concat([df1,df])\n",
    "    grade += 1\n",
    "    \n",
    "df1.head()\n"
   ]
  },
  {
   "cell_type": "code",
   "execution_count": 63,
   "id": "4c3ccbeb",
   "metadata": {},
   "outputs": [
    {
     "data": {
      "text/plain": [
       "array([3, 5, 6], dtype=int64)"
      ]
     },
     "execution_count": 63,
     "metadata": {},
     "output_type": "execute_result"
    }
   ],
   "source": [
    "df12 = df1[['Grade','Percentage \\nLevel 3 or Above']].value_counts().sort_values(ascending = False)\n",
    "\n",
    "df1[df1['Percentage \\nLevel 3 or Above'].isnull()]['Grade'].unique()\n",
    "\n",
    "## gread 3,5,6 doesnot have last 2 columns\n"
   ]
  },
  {
   "cell_type": "code",
   "execution_count": 65,
   "id": "b7d7724e",
   "metadata": {},
   "outputs": [
    {
     "data": {
      "text/plain": [
       "Index([               'District Number',                  'District Name',\n",
       "                                'Grade',             'Number of Students',\n",
       "                    'Mean Scale Score ', 'Percentage in Level 3 or Above',\n",
       "                                      1,                                2,\n",
       "                                      3,                                4,\n",
       "                                      5,  'Percentage \\nLevel 3 or Above',\n",
       "       'Achievement Levels 3 and Above'],\n",
       "      dtype='object')"
      ]
     },
     "execution_count": 65,
     "metadata": {},
     "output_type": "execute_result"
    }
   ],
   "source": [
    "df1.columns"
   ]
  },
  {
   "cell_type": "code",
   "execution_count": 66,
   "id": "eea2a48e",
   "metadata": {},
   "outputs": [
    {
     "name": "stdout",
     "output_type": "stream",
     "text": [
      "<class 'pandas.core.frame.DataFrame'>\n",
      "Int64Index: 365 entries, 0 to 72\n",
      "Data columns (total 13 columns):\n",
      " #   Column                          Non-Null Count  Dtype  \n",
      "---  ------                          --------------  -----  \n",
      " 0   District Number                 365 non-null    int64  \n",
      " 1   District Name                   365 non-null    object \n",
      " 2   Grade                           365 non-null    int64  \n",
      " 3   Number of Students              365 non-null    int64  \n",
      " 4   Mean Scale Score                365 non-null    int64  \n",
      " 5   Percentage in Level 3 or Above  146 non-null    float64\n",
      " 6   1                               365 non-null    int64  \n",
      " 7   2                               365 non-null    int64  \n",
      " 8   3                               365 non-null    int64  \n",
      " 9   4                               365 non-null    int64  \n",
      " 10  5                               365 non-null    int64  \n",
      " 11  Percentage \n",
      "Level 3 or Above    146 non-null    float64\n",
      " 12  Achievement Levels 3 and Above  73 non-null     float64\n",
      "dtypes: float64(3), int64(9), object(1)\n",
      "memory usage: 39.9+ KB\n"
     ]
    }
   ],
   "source": [
    "df1.info()\n",
    "\n",
    "##mean scale score is int so no need to change"
   ]
  },
  {
   "cell_type": "code",
   "execution_count": 67,
   "id": "e0c2914d",
   "metadata": {},
   "outputs": [
    {
     "data": {
      "text/html": [
       "<div>\n",
       "<style scoped>\n",
       "    .dataframe tbody tr th:only-of-type {\n",
       "        vertical-align: middle;\n",
       "    }\n",
       "\n",
       "    .dataframe tbody tr th {\n",
       "        vertical-align: top;\n",
       "    }\n",
       "\n",
       "    .dataframe thead th {\n",
       "        text-align: right;\n",
       "    }\n",
       "</style>\n",
       "<table border=\"1\" class=\"dataframe\">\n",
       "  <thead>\n",
       "    <tr style=\"text-align: right;\">\n",
       "      <th></th>\n",
       "      <th>District Number</th>\n",
       "      <th>District Name</th>\n",
       "      <th>Grade</th>\n",
       "      <th>Mean Scale Score</th>\n",
       "    </tr>\n",
       "  </thead>\n",
       "  <tbody>\n",
       "    <tr>\n",
       "      <th>0</th>\n",
       "      <td>1</td>\n",
       "      <td>ALACHUA</td>\n",
       "      <td>3</td>\n",
       "      <td>302</td>\n",
       "    </tr>\n",
       "    <tr>\n",
       "      <th>1</th>\n",
       "      <td>2</td>\n",
       "      <td>BAKER</td>\n",
       "      <td>3</td>\n",
       "      <td>307</td>\n",
       "    </tr>\n",
       "    <tr>\n",
       "      <th>2</th>\n",
       "      <td>3</td>\n",
       "      <td>BAY</td>\n",
       "      <td>3</td>\n",
       "      <td>299</td>\n",
       "    </tr>\n",
       "    <tr>\n",
       "      <th>3</th>\n",
       "      <td>4</td>\n",
       "      <td>BRADFORD</td>\n",
       "      <td>3</td>\n",
       "      <td>297</td>\n",
       "    </tr>\n",
       "    <tr>\n",
       "      <th>4</th>\n",
       "      <td>5</td>\n",
       "      <td>BREVARD</td>\n",
       "      <td>3</td>\n",
       "      <td>302</td>\n",
       "    </tr>\n",
       "  </tbody>\n",
       "</table>\n",
       "</div>"
      ],
      "text/plain": [
       "   District Number District Name  Grade  Mean Scale Score \n",
       "0                1       ALACHUA      3                302\n",
       "1                2         BAKER      3                307\n",
       "2                3           BAY      3                299\n",
       "3                4      BRADFORD      3                297\n",
       "4                5       BREVARD      3                302"
      ]
     },
     "execution_count": 67,
     "metadata": {},
     "output_type": "execute_result"
    }
   ],
   "source": [
    "relevant_col = ['District Number','District Name','Grade', 'Mean Scale Score ']\n",
    "\n",
    "df2 = df1[relevant_col]\n",
    "df2.head()"
   ]
  },
  {
   "cell_type": "code",
   "execution_count": 69,
   "id": "f5239387",
   "metadata": {},
   "outputs": [
    {
     "name": "stdout",
     "output_type": "stream",
     "text": [
      "[ 1  2  3  4  5  6  7  8  9 10 11 12 13 14 15 16 17 18 19 20 21 22 23 24\n",
      " 25 26 27 28 29 30 31 32 33 34 35 36 37 38 39 40 41 42 43 44 45 46 47 48\n",
      " 49 50 51 52 53 54 55 56 57 58 59 60 61 62 63 64 65 66 67 68 71 72 73 74\n",
      " 75]\n",
      "['ALACHUA' 'BAKER' 'BAY' 'BRADFORD' 'BREVARD' 'BROWARD' 'CALHOUN'\n",
      " 'CHARLOTTE' 'CITRUS' 'CLAY' 'COLLIER' 'COLUMBIA' 'DADE' 'DESOTO' 'DIXIE'\n",
      " 'DUVAL' 'ESCAMBIA' 'FLAGLER' 'FRANKLIN' 'GADSDEN' 'GILCHRIST' 'GLADES'\n",
      " 'GULF' 'HAMILTON' 'HARDEE' 'HENDRY' 'HERNANDO' 'HIGHLANDS' 'HILLSBOROUGH'\n",
      " 'HOLMES' 'INDIAN RIVER' 'JACKSON' 'JEFFERSON' 'LAFAYETTE' 'LAKE' 'LEE'\n",
      " 'LEON' 'LEVY' 'LIBERTY' 'MADISON' 'MANATEE' 'MARION' 'MARTIN' 'MONROE'\n",
      " 'NASSAU' 'OKALOOSA' 'OKEECHOBEE' 'ORANGE' 'OSCEOLA' 'PALM BEACH' 'PASCO'\n",
      " 'PINELLAS' 'POLK' 'PUTNAM' 'ST. JOHNS' 'ST. LUCIE' 'SANTA ROSA'\n",
      " 'SARASOTA' 'SEMINOLE' 'SUMTER' 'SUWANNEE' 'TAYLOR' 'UNION' 'VOLUSIA'\n",
      " 'WAKULLA' 'WALTON' 'WASHINGTON' 'DEAF/BLIND' 'FL VIRTUAL' 'FAU LAB SCH'\n",
      " 'FSU LAB SCH' 'FAMU LAB SCH' 'UF LAB SCH']\n",
      "[3 4 5 6 7]\n",
      "[302 307 299 297 305 306 304 291 298 295 303 300 301 308 292 296 312 311\n",
      " 278 294 310 313 317 316 314 318 319 320 315 322 324 323 326 321 309 284\n",
      " 328 325 333 337 331 329 330 327 285 334 332 336 345 339 335 338 340 348]\n"
     ]
    }
   ],
   "source": [
    "for col in df2:\n",
    "    print(df2[col].unique())\n",
    "    \n",
    "## mean scale score doesnt have any absurd scores"
   ]
  },
  {
   "cell_type": "code",
   "execution_count": 70,
   "id": "0c6accd0",
   "metadata": {},
   "outputs": [
    {
     "name": "stdout",
     "output_type": "stream",
     "text": [
      "couunt of NA values in District Number\n",
      "0\n",
      "couunt of NA values in District Name\n",
      "0\n",
      "couunt of NA values in Grade\n",
      "0\n",
      "couunt of NA values in Mean Scale Score \n",
      "0\n"
     ]
    }
   ],
   "source": [
    "for col in df2:\n",
    "    print(\"couunt of NA values in\", col)\n",
    "    print(df2[col].isnull().sum())"
   ]
  }
 ],
 "metadata": {
  "kernelspec": {
   "display_name": "Python 3 (ipykernel)",
   "language": "python",
   "name": "python3"
  },
  "language_info": {
   "codemirror_mode": {
    "name": "ipython",
    "version": 3
   },
   "file_extension": ".py",
   "mimetype": "text/x-python",
   "name": "python",
   "nbconvert_exporter": "python",
   "pygments_lexer": "ipython3",
   "version": "3.9.13"
  }
 },
 "nbformat": 4,
 "nbformat_minor": 5
}
