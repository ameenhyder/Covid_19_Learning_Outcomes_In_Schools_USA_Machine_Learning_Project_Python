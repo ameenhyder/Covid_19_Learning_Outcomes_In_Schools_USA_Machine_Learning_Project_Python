{
 "cells": [
  {
   "cell_type": "code",
   "execution_count": 1,
   "metadata": {
    "colab": {
     "background_save": true
    },
    "id": "T4xNXC4dtCCm"
   },
   "outputs": [],
   "source": [
    "import pandas as pd\n",
    "import numpy as np"
   ]
  },
  {
   "cell_type": "markdown",
   "metadata": {},
   "source": [
    "## Data Cleaning Massachusetts"
   ]
  },
  {
   "cell_type": "code",
   "execution_count": 2,
   "metadata": {
    "colab": {
     "base_uri": "https://localhost:8080/",
     "height": 301
    },
    "executionInfo": {
     "elapsed": 41985,
     "status": "ok",
     "timestamp": 1666479721796,
     "user": {
      "displayName": "Yanling Shen",
      "userId": "00933380804139221522"
     },
     "user_tz": 240
    },
    "id": "LXSsDUjztL0n",
    "outputId": "8543b94b-0e4e-469b-f1f9-163d61f03b35"
   },
   "outputs": [],
   "source": [
    "#### analyzing 1 file of Colorado Data\n",
    "\n",
    "path = \"C:/Users/ameen/Desktop/Covid_learning_gap_ML_project_17_oct/datasets/massachusetts\"\n",
    "\n",
    "df2017_path = path + \"/2017_massachusetts.xlsx\"\n",
    "df2018_path = path + \"/2018_massachusetts.xlsx\"\n",
    "df2019_path = path + \"/2019_massachusetts.xlsx\"\n",
    "df2021_path = path + \"/2021_massachusetts.xlsx\"\n",
    "\n",
    "df2017 = pd.read_excel(df2017_path,header=[0],skiprows=1)\n",
    "df2018 = pd.read_excel(df2018_path,header=[0],skiprows=1)\n",
    "df2019 = pd.read_excel(df2019_path,header=[0],skiprows=1)\n",
    "df2021 = pd.read_excel(df2021_path,header=[0],skiprows=1)\n",
    "\n",
    "df2017[\"year\"] = '2017'\n",
    "df2018[\"year\"] = '2018'\n",
    "df2019[\"year\"] = '2019'\n",
    "df2021[\"year\"] = '2021'"
   ]
  },
  {
   "cell_type": "code",
   "execution_count": 3,
   "metadata": {
    "colab": {
     "base_uri": "https://localhost:8080/"
    },
    "executionInfo": {
     "elapsed": 151,
     "status": "ok",
     "timestamp": 1666479766698,
     "user": {
      "displayName": "Yanling Shen",
      "userId": "00933380804139221522"
     },
     "user_tz": 240
    },
    "id": "Sy1HRp9xvxiY",
    "outputId": "5238f7af-4d83-442f-e46a-c59304b8559f"
   },
   "outputs": [
    {
     "name": "stdout",
     "output_type": "stream",
     "text": [
      "(1062, 19)\n",
      "(1068, 18)\n",
      "(722, 18)\n",
      "(716, 18)\n"
     ]
    }
   ],
   "source": [
    "print(df2021.shape)\n",
    "print(df2019.shape)\n",
    "print(df2018.shape)\n",
    "print(df2017.shape)\n",
    "\n",
    "## 2021 has one extra column"
   ]
  },
  {
   "cell_type": "code",
   "execution_count": 4,
   "metadata": {
    "colab": {
     "base_uri": "https://localhost:8080/",
     "height": 235
    },
    "executionInfo": {
     "elapsed": 312,
     "status": "error",
     "timestamp": 1666495480259,
     "user": {
      "displayName": "Yanling Shen",
      "userId": "00933380804139221522"
     },
     "user_tz": 240
    },
    "id": "f-r23oJn7-3Q",
    "outputId": "5c5e813f-72eb-4e1d-80dd-66d42385b4d0"
   },
   "outputs": [
    {
     "data": {
      "text/html": [
       "<div>\n",
       "<style scoped>\n",
       "    .dataframe tbody tr th:only-of-type {\n",
       "        vertical-align: middle;\n",
       "    }\n",
       "\n",
       "    .dataframe tbody tr th {\n",
       "        vertical-align: top;\n",
       "    }\n",
       "\n",
       "    .dataframe thead th {\n",
       "        text-align: right;\n",
       "    }\n",
       "</style>\n",
       "<table border=\"1\" class=\"dataframe\">\n",
       "  <thead>\n",
       "    <tr style=\"text-align: right;\">\n",
       "      <th></th>\n",
       "      <th>year</th>\n",
       "      <th>District Name</th>\n",
       "      <th>District Code</th>\n",
       "      <th>Subject</th>\n",
       "      <th>Avg. Scaled Score</th>\n",
       "    </tr>\n",
       "  </thead>\n",
       "  <tbody>\n",
       "    <tr>\n",
       "      <th>0</th>\n",
       "      <td>2017</td>\n",
       "      <td>Abby Kelley Foster Charter Public (District)</td>\n",
       "      <td>4450000</td>\n",
       "      <td>ELA</td>\n",
       "      <td>496.2</td>\n",
       "    </tr>\n",
       "    <tr>\n",
       "      <th>1</th>\n",
       "      <td>2017</td>\n",
       "      <td>Abby Kelley Foster Charter Public (District)</td>\n",
       "      <td>4450000</td>\n",
       "      <td>MATH</td>\n",
       "      <td>494.0</td>\n",
       "    </tr>\n",
       "    <tr>\n",
       "      <th>2</th>\n",
       "      <td>2017</td>\n",
       "      <td>Abington</td>\n",
       "      <td>10000</td>\n",
       "      <td>ELA</td>\n",
       "      <td>500.4</td>\n",
       "    </tr>\n",
       "    <tr>\n",
       "      <th>3</th>\n",
       "      <td>2017</td>\n",
       "      <td>Abington</td>\n",
       "      <td>10000</td>\n",
       "      <td>MATH</td>\n",
       "      <td>499.1</td>\n",
       "    </tr>\n",
       "    <tr>\n",
       "      <th>4</th>\n",
       "      <td>2017</td>\n",
       "      <td>Academy Of the Pacific Rim Charter Public (Dis...</td>\n",
       "      <td>4120000</td>\n",
       "      <td>ELA</td>\n",
       "      <td>493.6</td>\n",
       "    </tr>\n",
       "  </tbody>\n",
       "</table>\n",
       "</div>"
      ],
      "text/plain": [
       "   year                                      District Name  District Code  \\\n",
       "0  2017       Abby Kelley Foster Charter Public (District)        4450000   \n",
       "1  2017       Abby Kelley Foster Charter Public (District)        4450000   \n",
       "2  2017                                           Abington          10000   \n",
       "3  2017                                           Abington          10000   \n",
       "4  2017  Academy Of the Pacific Rim Charter Public (Dis...        4120000   \n",
       "\n",
       "  Subject  Avg. Scaled Score  \n",
       "0     ELA              496.2  \n",
       "1    MATH              494.0  \n",
       "2     ELA              500.4  \n",
       "3    MATH              499.1  \n",
       "4     ELA              493.6  "
      ]
     },
     "execution_count": 4,
     "metadata": {},
     "output_type": "execute_result"
    }
   ],
   "source": [
    "relevant_col = ['year','District Name','District Code','Subject', 'Avg. Scaled Score']\n",
    "\n",
    "df2017 = df2017[relevant_col]\n",
    "df2018 = df2018[relevant_col]\n",
    "df2019 = df2019[relevant_col]\n",
    "df2021 = df2021[relevant_col]\n",
    "\n",
    "df_mass = pd.concat([df2017,df2018,df2019,df2021])\n",
    "df_mass.head()"
   ]
  },
  {
   "cell_type": "code",
   "execution_count": 5,
   "metadata": {
    "colab": {
     "base_uri": "https://localhost:8080/",
     "height": 235
    },
    "executionInfo": {
     "elapsed": 297,
     "status": "error",
     "timestamp": 1666495473556,
     "user": {
      "displayName": "Yanling Shen",
      "userId": "00933380804139221522"
     },
     "user_tz": 240
    },
    "id": "cBhPyKG59IXI",
    "outputId": "5f3728d0-6e98-4b95-bfeb-1983bd6824ca"
   },
   "outputs": [
    {
     "name": "stdout",
     "output_type": "stream",
     "text": [
      "couunt of NA values in year\n",
      "0\n",
      "couunt of NA values in District Name\n",
      "0\n",
      "couunt of NA values in District Code\n",
      "0\n",
      "couunt of NA values in Subject\n",
      "0\n",
      "couunt of NA values in Avg. Scaled Score\n",
      "0\n",
      "500.5    27\n",
      "501.0    24\n",
      "502.2    24\n",
      "498.8    23\n",
      "506.4    23\n",
      "         ..\n",
      "520.1     1\n",
      "476.0     1\n",
      "479.2     1\n",
      "484.5     1\n",
      "469.3     1\n",
      "Name: Avg. Scaled Score, Length: 431, dtype: int64\n"
     ]
    }
   ],
   "source": [
    "df = df_mass\n",
    "\n",
    "for col in df:\n",
    "    print(\"couunt of NA values in\", col)\n",
    "    print(df[col].isnull().sum())\n",
    "    \n",
    "    \n",
    "print(df[\"Avg. Scaled Score\"].value_counts())\n",
    "\n",
    "##no absurd values in avg. scaled score\n",
    "##no nas"
   ]
  },
  {
   "cell_type": "code",
   "execution_count": 6,
   "metadata": {
    "colab": {
     "base_uri": "https://localhost:8080/",
     "height": 165
    },
    "executionInfo": {
     "elapsed": 311,
     "status": "error",
     "timestamp": 1666495463152,
     "user": {
      "displayName": "Yanling Shen",
      "userId": "00933380804139221522"
     },
     "user_tz": 240
    },
    "id": "Y5pAtl_L-cZ6",
    "outputId": "d9bb83f2-16bf-4792-c877-c348adf590c2"
   },
   "outputs": [
    {
     "data": {
      "text/plain": [
       "False"
      ]
     },
     "execution_count": 6,
     "metadata": {},
     "output_type": "execute_result"
    }
   ],
   "source": [
    "df_mass.isnull().values.any()"
   ]
  },
  {
   "cell_type": "code",
   "execution_count": 7,
   "metadata": {
    "executionInfo": {
     "elapsed": 9,
     "status": "aborted",
     "timestamp": 1666495454673,
     "user": {
      "displayName": "Yanling Shen",
      "userId": "00933380804139221522"
     },
     "user_tz": 240
    },
    "id": "mQ3sLngp-gl7"
   },
   "outputs": [
    {
     "data": {
      "text/html": [
       "<div>\n",
       "<style scoped>\n",
       "    .dataframe tbody tr th:only-of-type {\n",
       "        vertical-align: middle;\n",
       "    }\n",
       "\n",
       "    .dataframe tbody tr th {\n",
       "        vertical-align: top;\n",
       "    }\n",
       "\n",
       "    .dataframe thead th {\n",
       "        text-align: right;\n",
       "    }\n",
       "</style>\n",
       "<table border=\"1\" class=\"dataframe\">\n",
       "  <thead>\n",
       "    <tr style=\"text-align: right;\">\n",
       "      <th></th>\n",
       "      <th>year</th>\n",
       "      <th>District Name</th>\n",
       "      <th>District Code</th>\n",
       "      <th>Subject</th>\n",
       "      <th>Avg. Scaled Score</th>\n",
       "    </tr>\n",
       "  </thead>\n",
       "  <tbody>\n",
       "    <tr>\n",
       "      <th>0</th>\n",
       "      <td>2017</td>\n",
       "      <td>Abby Kelley Foster Charter Public (District)</td>\n",
       "      <td>4450000</td>\n",
       "      <td>ELA</td>\n",
       "      <td>496.2</td>\n",
       "    </tr>\n",
       "    <tr>\n",
       "      <th>1</th>\n",
       "      <td>2017</td>\n",
       "      <td>Abby Kelley Foster Charter Public (District)</td>\n",
       "      <td>4450000</td>\n",
       "      <td>MATH</td>\n",
       "      <td>494.0</td>\n",
       "    </tr>\n",
       "    <tr>\n",
       "      <th>2</th>\n",
       "      <td>2017</td>\n",
       "      <td>Abington</td>\n",
       "      <td>10000</td>\n",
       "      <td>ELA</td>\n",
       "      <td>500.4</td>\n",
       "    </tr>\n",
       "    <tr>\n",
       "      <th>3</th>\n",
       "      <td>2017</td>\n",
       "      <td>Abington</td>\n",
       "      <td>10000</td>\n",
       "      <td>MATH</td>\n",
       "      <td>499.1</td>\n",
       "    </tr>\n",
       "    <tr>\n",
       "      <th>4</th>\n",
       "      <td>2017</td>\n",
       "      <td>Academy Of the Pacific Rim Charter Public (Dis...</td>\n",
       "      <td>4120000</td>\n",
       "      <td>ELA</td>\n",
       "      <td>493.6</td>\n",
       "    </tr>\n",
       "  </tbody>\n",
       "</table>\n",
       "</div>"
      ],
      "text/plain": [
       "   year                                      District Name  District Code  \\\n",
       "0  2017       Abby Kelley Foster Charter Public (District)        4450000   \n",
       "1  2017       Abby Kelley Foster Charter Public (District)        4450000   \n",
       "2  2017                                           Abington          10000   \n",
       "3  2017                                           Abington          10000   \n",
       "4  2017  Academy Of the Pacific Rim Charter Public (Dis...        4120000   \n",
       "\n",
       "  Subject  Avg. Scaled Score  \n",
       "0     ELA              496.2  \n",
       "1    MATH              494.0  \n",
       "2     ELA              500.4  \n",
       "3    MATH              499.1  \n",
       "4     ELA              493.6  "
      ]
     },
     "execution_count": 7,
     "metadata": {},
     "output_type": "execute_result"
    }
   ],
   "source": [
    "### final table for Colarado data:\n",
    "#### it contains for each year, for each district, for each grade, for each subject and ethnic group the mean scale scores\n",
    "\n",
    "df_mass_fin_1 = df_mass \n",
    "df_mass_fin_1.to_csv('C:/Users/ameen/Desktop/Covid_learning_gap_ML_project_17_oct/datasets_processed/massachusetts.csv')\n",
    "df_mass_fin_1.head()"
   ]
  },
  {
   "cell_type": "code",
   "execution_count": null,
   "metadata": {
    "id": "wvxvRLPI-iuu"
   },
   "outputs": [],
   "source": []
  }
 ],
 "metadata": {
  "colab": {
   "authorship_tag": "ABX9TyOKJxr2A27/MVaAm/uTWcL/",
   "name": "",
   "version": ""
  },
  "kernelspec": {
   "display_name": "Python 3 (ipykernel)",
   "language": "python",
   "name": "python3"
  },
  "language_info": {
   "codemirror_mode": {
    "name": "ipython",
    "version": 3
   },
   "file_extension": ".py",
   "mimetype": "text/x-python",
   "name": "python",
   "nbconvert_exporter": "python",
   "pygments_lexer": "ipython3",
   "version": "3.9.13"
  }
 },
 "nbformat": 4,
 "nbformat_minor": 1
}
