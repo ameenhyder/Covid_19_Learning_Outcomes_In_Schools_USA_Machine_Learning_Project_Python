{
 "cells": [
  {
   "cell_type": "code",
   "execution_count": 1,
   "id": "a53110d5",
   "metadata": {},
   "outputs": [],
   "source": [
    "import pandas as pd\n",
    "import numpy as np"
   ]
  },
  {
   "cell_type": "markdown",
   "id": "071f7bf1",
   "metadata": {},
   "source": [
    "## Data Cleaning for Florida"
   ]
  },
  {
   "cell_type": "code",
   "execution_count": 2,
   "id": "97bee101",
   "metadata": {},
   "outputs": [],
   "source": [
    "def file_retrieve_florida(path, year, max_grade, subject):\n",
    "    df1 = pd.DataFrame()\n",
    "    if subject == 'english':\n",
    "        i = 3\n",
    "        while i <= max_grade:\n",
    "            df = pd.read_excel(path+year+'/grade_'+str(i)+'_ela.xls')\n",
    "            df1 = pd.concat([df1,df])\n",
    "            i += 1\n",
    "    else:\n",
    "        i = 3\n",
    "        while i <= max_grade:\n",
    "            df = pd.read_excel(path+year+'/'+str(i)+'.xls')\n",
    "            df1 = pd.concat([df1,df])\n",
    "            i += 1\n",
    "            \n",
    "    return(df1)    \n"
   ]
  },
  {
   "cell_type": "code",
   "execution_count": 3,
   "id": "5fc513b7",
   "metadata": {},
   "outputs": [],
   "source": [
    "### prepare english data ####\n",
    "\n",
    "path = \"C:/Users/ameen/Desktop/Covid_learning_gap_ML_project_17_oct/datasets/florida/english/\"\n",
    "\n",
    "df2017 = file_retrieve_florida(path, \"2017\", 7, \"english\")\n",
    "df2018 = file_retrieve_florida(path, \"2018\", 7, \"english\")\n",
    "df2019 = file_retrieve_florida(path, \"2019\", 7, \"english\")\n",
    "df2021 = file_retrieve_florida(path, \"2021\", 7, \"english\")\n",
    "\n",
    "df2017[\"year\"] = '2017'\n",
    "df2018[\"year\"] = '2018'\n",
    "df2019[\"year\"] = '2019'\n",
    "df2021[\"year\"] = '2021'"
   ]
  },
  {
   "cell_type": "code",
   "execution_count": 4,
   "id": "5d28ccf3",
   "metadata": {},
   "outputs": [
    {
     "name": "stdout",
     "output_type": "stream",
     "text": [
      "(370, 12)\n",
      "(370, 12)\n",
      "(370, 12)\n",
      "(370, 13)\n"
     ]
    }
   ],
   "source": [
    "print(df2017.shape)\n",
    "print(df2018.shape)\n",
    "print(df2019.shape)\n",
    "print(df2021.shape)\n",
    "\n",
    "## 2021 has one additional column"
   ]
  },
  {
   "cell_type": "code",
   "execution_count": 5,
   "id": "89821776",
   "metadata": {},
   "outputs": [
    {
     "name": "stdout",
     "output_type": "stream",
     "text": [
      "Index(['year', 'District Number', 'District Name', 'Grade',\n",
      "       'Mean Scale Score '],\n",
      "      dtype='object')\n",
      "(1480, 5)\n"
     ]
    }
   ],
   "source": [
    "relevant_col = ['year','District Number','District Name','Grade', 'Mean Scale Score ']\n",
    "\n",
    "df2017 = df2017[relevant_col]\n",
    "df2018 = df2018[relevant_col]\n",
    "df2019 = df2019[relevant_col]\n",
    "df2021 = df2021[relevant_col]\n",
    "\n",
    "df_flor = pd.concat([df2017,df2018,df2019,df2021])\n",
    "\n",
    "#df_col.columns = np.array(['year','Level','District_Code','District_Name', 'School_Name','Content', 'Grade','Mean_Scale_Score'])\n",
    "#df_col.head()\n",
    "\n",
    "print(df_flor.columns)\n",
    "print(df_flor.shape)"
   ]
  },
  {
   "cell_type": "code",
   "execution_count": 6,
   "id": "281e5aa0",
   "metadata": {},
   "outputs": [
    {
     "name": "stdout",
     "output_type": "stream",
     "text": [
      "couunt of NA values in year\n",
      "0\n",
      "couunt of NA values in District Number\n",
      "0\n",
      "couunt of NA values in District Name\n",
      "0\n",
      "couunt of NA values in Grade\n",
      "0\n",
      "couunt of NA values in Mean Scale Score \n",
      "0\n",
      "324    63\n",
      "323    53\n",
      "325    51\n",
      "326    50\n",
      "320    50\n",
      "       ..\n",
      "348     1\n",
      "345     1\n",
      "288     1\n",
      "*       1\n",
      "282     1\n",
      "Name: Mean Scale Score , Length: 65, dtype: int64\n"
     ]
    }
   ],
   "source": [
    "df = df_flor\n",
    "\n",
    "for col in df:\n",
    "    print(\"couunt of NA values in\", col)\n",
    "    print(df[col].isnull().sum())\n",
    "    \n",
    "print(df[\"Mean Scale Score \"].value_counts().sort_values(ascending = False))\n",
    "\n",
    "### mean scale score has * in it, investigate further"
   ]
  },
  {
   "cell_type": "code",
   "execution_count": 7,
   "id": "02093d93",
   "metadata": {},
   "outputs": [
    {
     "name": "stdout",
     "output_type": "stream",
     "text": [
      "(1480, 5)\n",
      "['2017' '2018' '2019' '2021']\n",
      "[0 1 2 3 4 5 6 7 8 9 10 11 12 13 14 15 16 17 18 19 20 21 22 23 24 25 26 27\n",
      " 28 29 30 31 32 33 34 35 36 37 38 39 40 41 42 43 44 45 46 47 48 49 50 51\n",
      " 52 53 54 55 56 57 58 59 60 61 62 63 64 65 66 67 68 71 72 73 74 75 '00'\n",
      " '01' 'd' '03' '04' '05' '06' '07' '08' '09' '10' '11' '12' '13' '14' '15'\n",
      " '16' '17' '18' '19' '20' '21' '22' '23' '24' '25' '26' '27' '28' '29'\n",
      " '30' '31' '32' '33' '34' '35' '36' '37' '38' '39' '40' '41' '42' '43'\n",
      " '44' '45' '46' '47' '48' '49' '50' '51' '52' '53' '54' '55' '56' '57'\n",
      " '58' '59' '60' '61' '62' '63' '64' '65' '66' '67' '68' '71' '72' '73'\n",
      " '74' '75']\n",
      "['STATE TOTALS' 'ALACHUA' 'BAKER' 'BAY' 'BRADFORD' 'BREVARD' 'BROWARD'\n",
      " 'CALHOUN' 'CHARLOTTE' 'CITRUS' 'CLAY' 'COLLIER' 'COLUMBIA' 'DADE'\n",
      " 'DESOTO' 'DIXIE' 'DUVAL' 'ESCAMBIA' 'FLAGLER' 'FRANKLIN' 'GADSDEN'\n",
      " 'GILCHRIST' 'GLADES' 'GULF' 'HAMILTON' 'HARDEE' 'HENDRY' 'HERNANDO'\n",
      " 'HIGHLANDS' 'HILLSBOROUGH' 'HOLMES' 'INDIAN RIVER' 'JACKSON' 'JEFFERSON'\n",
      " 'LAFAYETTE' 'LAKE' 'LEE' 'LEON' 'LEVY' 'LIBERTY' 'MADISON' 'MANATEE'\n",
      " 'MARION' 'MARTIN' 'MONROE' 'NASSAU' 'OKALOOSA' 'OKEECHOBEE' 'ORANGE'\n",
      " 'OSCEOLA' 'PALM BEACH' 'PASCO' 'PINELLAS' 'POLK' 'PUTNAM' 'ST. JOHNS'\n",
      " 'ST. LUCIE' 'SANTA ROSA' 'SARASOTA' 'SEMINOLE' 'SUMTER' 'SUWANNEE'\n",
      " 'TAYLOR' 'UNION' 'VOLUSIA' 'WAKULLA' 'WALTON' 'WASHINGTON' 'DEAF/BLIND'\n",
      " 'FL VIRTUAL' 'FAU LAB SCH' 'FSU LAB SCH' 'FAMU LAB SCH' 'UF LAB SCH'\n",
      " 'MIAMI-DADE']\n",
      "[3 4 5 6 7]\n",
      "[303 305 298 306 302 308 290 300 292 301 293 297 304 299 307 312 295 314\n",
      " 310 309 274 315 311 313 294 318 317 321 319 316 287 324 323 320 322 325\n",
      " 326 330 333 328 337 329 327 331 336 332 335 334 338 344 339 342 346 340\n",
      " 289 296 280 285 348 291 343 345 288 '*' 282]\n",
      "<class 'pandas.core.frame.DataFrame'>\n",
      "Int64Index: 1480 entries, 0 to 73\n",
      "Data columns (total 5 columns):\n",
      " #   Column             Non-Null Count  Dtype \n",
      "---  ------             --------------  ----- \n",
      " 0   year               1480 non-null   object\n",
      " 1   District Number    1480 non-null   object\n",
      " 2   District Name      1480 non-null   object\n",
      " 3   Grade              1480 non-null   int64 \n",
      " 4   Mean Scale Score   1480 non-null   object\n",
      "dtypes: int64(1), object(4)\n",
      "memory usage: 69.4+ KB\n"
     ]
    }
   ],
   "source": [
    "### remove NAs:\n",
    "df_flor_fin = df_flor.dropna()\n",
    "print(df_flor_fin.shape)\n",
    "\n",
    "for col in df_flor_fin:\n",
    "    print(df_flor_fin[col].unique())\n",
    "    \n",
    "df_flor_fin.info()"
   ]
  },
  {
   "cell_type": "code",
   "execution_count": 8,
   "id": "1f393341",
   "metadata": {},
   "outputs": [
    {
     "data": {
      "text/plain": [
       "False"
      ]
     },
     "execution_count": 8,
     "metadata": {},
     "output_type": "execute_result"
    }
   ],
   "source": [
    "df_flor_fin.isnull().values.any()"
   ]
  },
  {
   "cell_type": "code",
   "execution_count": 9,
   "id": "5ba9a012",
   "metadata": {},
   "outputs": [
    {
     "name": "stdout",
     "output_type": "stream",
     "text": [
      "(1480, 5)\n",
      "(1479, 5)\n",
      "<class 'pandas.core.frame.DataFrame'>\n",
      "Int64Index: 1479 entries, 0 to 73\n",
      "Data columns (total 5 columns):\n",
      " #   Column             Non-Null Count  Dtype \n",
      "---  ------             --------------  ----- \n",
      " 0   year               1479 non-null   object\n",
      " 1   District Number    1479 non-null   object\n",
      " 2   District Name      1479 non-null   object\n",
      " 3   Grade              1479 non-null   int64 \n",
      " 4   Mean Scale Score   1479 non-null   int32 \n",
      "dtypes: int32(1), int64(1), object(3)\n",
      "memory usage: 63.6+ KB\n"
     ]
    },
    {
     "name": "stderr",
     "output_type": "stream",
     "text": [
      "C:\\Users\\ameen\\AppData\\Local\\Temp\\ipykernel_21772\\3928382269.py:7: SettingWithCopyWarning: \n",
      "A value is trying to be set on a copy of a slice from a DataFrame.\n",
      "Try using .loc[row_indexer,col_indexer] = value instead\n",
      "\n",
      "See the caveats in the documentation: https://pandas.pydata.org/pandas-docs/stable/user_guide/indexing.html#returning-a-view-versus-a-copy\n",
      "  df_flor_fin_1[\"Mean Scale Score \"] = df_flor_fin_1[\"Mean Scale Score \"].astype(int)\n"
     ]
    }
   ],
   "source": [
    "### removing entries with no mean scale score\n",
    "df_flor_fin_1 = df_flor_fin.query(\"`Mean Scale Score ` != '*'\")\n",
    "\n",
    "print(df_flor_fin.shape)\n",
    "print(df_flor_fin_1.shape)                              \n",
    "\n",
    "df_flor_fin_1[\"Mean Scale Score \"] = df_flor_fin_1[\"Mean Scale Score \"].astype(int)\n",
    "df_flor_fin_1.info()\n",
    "\n",
    "## around ~3100 entries removed with no average VSS"
   ]
  },
  {
   "cell_type": "code",
   "execution_count": 10,
   "id": "a627cf50",
   "metadata": {},
   "outputs": [
    {
     "name": "stderr",
     "output_type": "stream",
     "text": [
      "C:\\Users\\ameen\\AppData\\Local\\Temp\\ipykernel_21772\\3024612440.py:5: SettingWithCopyWarning: \n",
      "A value is trying to be set on a copy of a slice from a DataFrame.\n",
      "Try using .loc[row_indexer,col_indexer] = value instead\n",
      "\n",
      "See the caveats in the documentation: https://pandas.pydata.org/pandas-docs/stable/user_guide/indexing.html#returning-a-view-versus-a-copy\n",
      "  df_flor_fin_1_eng['subject'] = 'ELA'\n"
     ]
    },
    {
     "data": {
      "text/html": [
       "<div>\n",
       "<style scoped>\n",
       "    .dataframe tbody tr th:only-of-type {\n",
       "        vertical-align: middle;\n",
       "    }\n",
       "\n",
       "    .dataframe tbody tr th {\n",
       "        vertical-align: top;\n",
       "    }\n",
       "\n",
       "    .dataframe thead th {\n",
       "        text-align: right;\n",
       "    }\n",
       "</style>\n",
       "<table border=\"1\" class=\"dataframe\">\n",
       "  <thead>\n",
       "    <tr style=\"text-align: right;\">\n",
       "      <th></th>\n",
       "      <th>year</th>\n",
       "      <th>District Number</th>\n",
       "      <th>District Name</th>\n",
       "      <th>Grade</th>\n",
       "      <th>Mean Scale Score</th>\n",
       "      <th>subject</th>\n",
       "    </tr>\n",
       "  </thead>\n",
       "  <tbody>\n",
       "    <tr>\n",
       "      <th>0</th>\n",
       "      <td>2017</td>\n",
       "      <td>0</td>\n",
       "      <td>STATE TOTALS</td>\n",
       "      <td>3</td>\n",
       "      <td>303</td>\n",
       "      <td>ELA</td>\n",
       "    </tr>\n",
       "    <tr>\n",
       "      <th>1</th>\n",
       "      <td>2017</td>\n",
       "      <td>1</td>\n",
       "      <td>ALACHUA</td>\n",
       "      <td>3</td>\n",
       "      <td>303</td>\n",
       "      <td>ELA</td>\n",
       "    </tr>\n",
       "    <tr>\n",
       "      <th>2</th>\n",
       "      <td>2017</td>\n",
       "      <td>2</td>\n",
       "      <td>BAKER</td>\n",
       "      <td>3</td>\n",
       "      <td>305</td>\n",
       "      <td>ELA</td>\n",
       "    </tr>\n",
       "    <tr>\n",
       "      <th>3</th>\n",
       "      <td>2017</td>\n",
       "      <td>3</td>\n",
       "      <td>BAY</td>\n",
       "      <td>3</td>\n",
       "      <td>303</td>\n",
       "      <td>ELA</td>\n",
       "    </tr>\n",
       "    <tr>\n",
       "      <th>4</th>\n",
       "      <td>2017</td>\n",
       "      <td>4</td>\n",
       "      <td>BRADFORD</td>\n",
       "      <td>3</td>\n",
       "      <td>298</td>\n",
       "      <td>ELA</td>\n",
       "    </tr>\n",
       "  </tbody>\n",
       "</table>\n",
       "</div>"
      ],
      "text/plain": [
       "   year District Number District Name  Grade  Mean Scale Score  subject\n",
       "0  2017               0  STATE TOTALS      3                303     ELA\n",
       "1  2017               1       ALACHUA      3                303     ELA\n",
       "2  2017               2         BAKER      3                305     ELA\n",
       "3  2017               3           BAY      3                303     ELA\n",
       "4  2017               4      BRADFORD      3                298     ELA"
      ]
     },
     "execution_count": 10,
     "metadata": {},
     "output_type": "execute_result"
    }
   ],
   "source": [
    "### final table for florida english:\n",
    "#### it contains for each year, for district, for each grade, for each subject the mean scale scores\n",
    "\n",
    "df_flor_fin_1_eng = df_flor_fin_1\n",
    "df_flor_fin_1_eng['subject'] = 'ELA'\n",
    "df_flor_fin_1_eng.head()"
   ]
  },
  {
   "cell_type": "code",
   "execution_count": 11,
   "id": "9f8787bf",
   "metadata": {},
   "outputs": [],
   "source": [
    "## load data for maths\n",
    "\n",
    "path = \"C:/Users/ameen/Desktop/Covid_learning_gap_ML_project_17_oct/datasets/florida/maths/\"\n",
    "\n",
    "df2017 = file_retrieve_florida(path, \"2017\", 7, \"maths\")\n",
    "df2018 = file_retrieve_florida(path, \"2018\", 7, \"maths\")\n",
    "df2019 = file_retrieve_florida(path, \"2019\", 7, \"maths\")\n",
    "df2021 = file_retrieve_florida(path, \"2021\", 7, \"maths\")\n",
    "\n",
    "df2017[\"year\"] = '2017'\n",
    "df2018[\"year\"] = '2018'\n",
    "df2019[\"year\"] = '2019'\n",
    "df2021[\"year\"] = '2021'"
   ]
  },
  {
   "cell_type": "code",
   "execution_count": 12,
   "id": "2de56a61",
   "metadata": {},
   "outputs": [
    {
     "name": "stdout",
     "output_type": "stream",
     "text": [
      "(365, 14)\n",
      "(365, 12)\n",
      "(365, 12)\n",
      "(365, 12)\n"
     ]
    }
   ],
   "source": [
    "print(df2017.shape)\n",
    "print(df2018.shape)\n",
    "print(df2019.shape)\n",
    "print(df2021.shape)\n",
    "\n",
    "## 2021 has one additional column"
   ]
  },
  {
   "cell_type": "code",
   "execution_count": 13,
   "id": "4c8d073b",
   "metadata": {},
   "outputs": [
    {
     "name": "stdout",
     "output_type": "stream",
     "text": [
      "Index(['year', 'District Number', 'District Name', 'Grade',\n",
      "       'Mean Scale Score '],\n",
      "      dtype='object')\n",
      "(1460, 5)\n"
     ]
    }
   ],
   "source": [
    "relevant_col = ['year','District Number','District Name','Grade', 'Mean Scale Score ']\n",
    "\n",
    "df2017 = df2017[relevant_col]\n",
    "df2018 = df2018[relevant_col]\n",
    "df2019 = df2019[relevant_col]\n",
    "df2021 = df2021[relevant_col]\n",
    "\n",
    "df_flor = pd.concat([df2017,df2018,df2019,df2021])\n",
    "\n",
    "#df_col.columns = np.array(['year','Level','District_Code','District_Name', 'School_Name','Content', 'Grade','Mean_Scale_Score'])\n",
    "#df_col.head()\n",
    "\n",
    "print(df_flor.columns)\n",
    "print(df_flor.shape)"
   ]
  },
  {
   "cell_type": "code",
   "execution_count": 14,
   "id": "21f36af0",
   "metadata": {},
   "outputs": [
    {
     "name": "stdout",
     "output_type": "stream",
     "text": [
      "couunt of NA values in year\n",
      "0\n",
      "couunt of NA values in District Number\n",
      "0\n",
      "couunt of NA values in District Name\n",
      "0\n",
      "couunt of NA values in Grade\n",
      "0\n",
      "couunt of NA values in Mean Scale Score \n",
      "0\n",
      "321    57\n",
      "318    53\n",
      "324    53\n",
      "317    52\n",
      "319    51\n",
      "       ..\n",
      "349     1\n",
      "287     1\n",
      "276     1\n",
      "273     1\n",
      "270     1\n",
      "Name: Mean Scale Score , Length: 72, dtype: int64\n"
     ]
    }
   ],
   "source": [
    "df = df_flor\n",
    "\n",
    "for col in df:\n",
    "    print(\"couunt of NA values in\", col)\n",
    "    print(df[col].isnull().sum())\n",
    "    \n",
    "print(df[\"Mean Scale Score \"].value_counts().sort_values(ascending = False))\n",
    "\n",
    "### mean scale score has * in it, investigate further"
   ]
  },
  {
   "cell_type": "code",
   "execution_count": 15,
   "id": "4b6458f3",
   "metadata": {},
   "outputs": [
    {
     "name": "stdout",
     "output_type": "stream",
     "text": [
      "(1460, 5)\n",
      "['2017' '2018' '2019' '2021']\n",
      "[ 1  2  3  4  5  6  7  8  9 10 11 12 13 14 15 16 17 18 19 20 21 22 23 24\n",
      " 25 26 27 28 29 30 31 32 33 34 35 36 37 38 39 40 41 42 43 44 45 46 47 48\n",
      " 49 50 51 52 53 54 55 56 57 58 59 60 61 62 63 64 65 66 67 68 71 72 73 74\n",
      " 75]\n",
      "['ALACHUA' 'BAKER' 'BAY' 'BRADFORD' 'BREVARD' 'BROWARD' 'CALHOUN'\n",
      " 'CHARLOTTE' 'CITRUS' 'CLAY' 'COLLIER' 'COLUMBIA' 'DADE' 'DESOTO' 'DIXIE'\n",
      " 'DUVAL' 'ESCAMBIA' 'FLAGLER' 'FRANKLIN' 'GADSDEN' 'GILCHRIST' 'GLADES'\n",
      " 'GULF' 'HAMILTON' 'HARDEE' 'HENDRY' 'HERNANDO' 'HIGHLANDS' 'HILLSBOROUGH'\n",
      " 'HOLMES' 'INDIAN RIVER' 'JACKSON' 'JEFFERSON' 'LAFAYETTE' 'LAKE' 'LEE'\n",
      " 'LEON' 'LEVY' 'LIBERTY' 'MADISON' 'MANATEE' 'MARION' 'MARTIN' 'MONROE'\n",
      " 'NASSAU' 'OKALOOSA' 'OKEECHOBEE' 'ORANGE' 'OSCEOLA' 'PALM BEACH' 'PASCO'\n",
      " 'PINELLAS' 'POLK' 'PUTNAM' 'ST. JOHNS' 'ST. LUCIE' 'SANTA ROSA'\n",
      " 'SARASOTA' 'SEMINOLE' 'SUMTER' 'SUWANNEE' 'TAYLOR' 'UNION' 'VOLUSIA'\n",
      " 'WAKULLA' 'WALTON' 'WASHINGTON' 'DEAF/BLIND' 'FL VIRTUAL' 'FAU LAB SCH'\n",
      " 'FSU LAB SCH' 'FAMU LAB SCH' 'UF LAB SCH' 'MIAMI-DADE']\n",
      "[3 4 5 6 7]\n",
      "[302 307 299 297 305 306 304 291 298 295 303 300 301 308 292 296 312 311\n",
      " 278 294 310 313 317 316 314 318 319 320 315 322 324 323 326 321 309 284\n",
      " 328 325 333 337 331 329 330 327 285 334 332 336 345 339 335 338 340 348\n",
      " 288 293 273 276 287 341 346 342 349 344 290 281 347 351 286 289 '*' 270]\n",
      "<class 'pandas.core.frame.DataFrame'>\n",
      "Int64Index: 1460 entries, 0 to 72\n",
      "Data columns (total 5 columns):\n",
      " #   Column             Non-Null Count  Dtype \n",
      "---  ------             --------------  ----- \n",
      " 0   year               1460 non-null   object\n",
      " 1   District Number    1460 non-null   int64 \n",
      " 2   District Name      1460 non-null   object\n",
      " 3   Grade              1460 non-null   int64 \n",
      " 4   Mean Scale Score   1460 non-null   object\n",
      "dtypes: int64(2), object(3)\n",
      "memory usage: 68.4+ KB\n"
     ]
    }
   ],
   "source": [
    "### remove NAs:\n",
    "df_flor_fin = df_flor.dropna()\n",
    "print(df_flor_fin.shape)\n",
    "\n",
    "for col in df_flor_fin:\n",
    "    print(df_flor_fin[col].unique())\n",
    "    \n",
    "df_flor_fin.info()\n",
    "\n",
    "## contains star in mean scale score column"
   ]
  },
  {
   "cell_type": "code",
   "execution_count": 16,
   "id": "eb466bc0",
   "metadata": {},
   "outputs": [
    {
     "data": {
      "text/plain": [
       "False"
      ]
     },
     "execution_count": 16,
     "metadata": {},
     "output_type": "execute_result"
    }
   ],
   "source": [
    "df_flor_fin.isnull().values.any()"
   ]
  },
  {
   "cell_type": "code",
   "execution_count": 17,
   "id": "742870a0",
   "metadata": {},
   "outputs": [
    {
     "name": "stdout",
     "output_type": "stream",
     "text": [
      "(1460, 5)\n",
      "(1458, 5)\n",
      "<class 'pandas.core.frame.DataFrame'>\n",
      "Int64Index: 1458 entries, 0 to 72\n",
      "Data columns (total 5 columns):\n",
      " #   Column             Non-Null Count  Dtype \n",
      "---  ------             --------------  ----- \n",
      " 0   year               1458 non-null   object\n",
      " 1   District Number    1458 non-null   int64 \n",
      " 2   District Name      1458 non-null   object\n",
      " 3   Grade              1458 non-null   int64 \n",
      " 4   Mean Scale Score   1458 non-null   int32 \n",
      "dtypes: int32(1), int64(2), object(2)\n",
      "memory usage: 62.6+ KB\n"
     ]
    },
    {
     "name": "stderr",
     "output_type": "stream",
     "text": [
      "C:\\Users\\ameen\\AppData\\Local\\Temp\\ipykernel_21772\\2876576195.py:7: SettingWithCopyWarning: \n",
      "A value is trying to be set on a copy of a slice from a DataFrame.\n",
      "Try using .loc[row_indexer,col_indexer] = value instead\n",
      "\n",
      "See the caveats in the documentation: https://pandas.pydata.org/pandas-docs/stable/user_guide/indexing.html#returning-a-view-versus-a-copy\n",
      "  df_flor_fin_1[\"Mean Scale Score \"] = df_flor_fin_1[\"Mean Scale Score \"].astype(int)\n"
     ]
    }
   ],
   "source": [
    "### removing entries with no mean scale score\n",
    "df_flor_fin_1 = df_flor_fin.query(\"`Mean Scale Score ` != '*'\")\n",
    "\n",
    "print(df_flor_fin.shape)\n",
    "print(df_flor_fin_1.shape)                              \n",
    "\n",
    "df_flor_fin_1[\"Mean Scale Score \"] = df_flor_fin_1[\"Mean Scale Score \"].astype(int)\n",
    "df_flor_fin_1.info()"
   ]
  },
  {
   "cell_type": "code",
   "execution_count": 18,
   "id": "4c7759c8",
   "metadata": {},
   "outputs": [
    {
     "name": "stderr",
     "output_type": "stream",
     "text": [
      "C:\\Users\\ameen\\AppData\\Local\\Temp\\ipykernel_21772\\329708612.py:5: SettingWithCopyWarning: \n",
      "A value is trying to be set on a copy of a slice from a DataFrame.\n",
      "Try using .loc[row_indexer,col_indexer] = value instead\n",
      "\n",
      "See the caveats in the documentation: https://pandas.pydata.org/pandas-docs/stable/user_guide/indexing.html#returning-a-view-versus-a-copy\n",
      "  df_flor_fin_1_maths['subject'] = 'Maths'\n"
     ]
    },
    {
     "data": {
      "text/html": [
       "<div>\n",
       "<style scoped>\n",
       "    .dataframe tbody tr th:only-of-type {\n",
       "        vertical-align: middle;\n",
       "    }\n",
       "\n",
       "    .dataframe tbody tr th {\n",
       "        vertical-align: top;\n",
       "    }\n",
       "\n",
       "    .dataframe thead th {\n",
       "        text-align: right;\n",
       "    }\n",
       "</style>\n",
       "<table border=\"1\" class=\"dataframe\">\n",
       "  <thead>\n",
       "    <tr style=\"text-align: right;\">\n",
       "      <th></th>\n",
       "      <th>year</th>\n",
       "      <th>District Number</th>\n",
       "      <th>District Name</th>\n",
       "      <th>Grade</th>\n",
       "      <th>Mean Scale Score</th>\n",
       "      <th>subject</th>\n",
       "    </tr>\n",
       "  </thead>\n",
       "  <tbody>\n",
       "    <tr>\n",
       "      <th>0</th>\n",
       "      <td>2017</td>\n",
       "      <td>1</td>\n",
       "      <td>ALACHUA</td>\n",
       "      <td>3</td>\n",
       "      <td>302</td>\n",
       "      <td>Maths</td>\n",
       "    </tr>\n",
       "    <tr>\n",
       "      <th>1</th>\n",
       "      <td>2017</td>\n",
       "      <td>2</td>\n",
       "      <td>BAKER</td>\n",
       "      <td>3</td>\n",
       "      <td>307</td>\n",
       "      <td>Maths</td>\n",
       "    </tr>\n",
       "    <tr>\n",
       "      <th>2</th>\n",
       "      <td>2017</td>\n",
       "      <td>3</td>\n",
       "      <td>BAY</td>\n",
       "      <td>3</td>\n",
       "      <td>299</td>\n",
       "      <td>Maths</td>\n",
       "    </tr>\n",
       "    <tr>\n",
       "      <th>3</th>\n",
       "      <td>2017</td>\n",
       "      <td>4</td>\n",
       "      <td>BRADFORD</td>\n",
       "      <td>3</td>\n",
       "      <td>297</td>\n",
       "      <td>Maths</td>\n",
       "    </tr>\n",
       "    <tr>\n",
       "      <th>4</th>\n",
       "      <td>2017</td>\n",
       "      <td>5</td>\n",
       "      <td>BREVARD</td>\n",
       "      <td>3</td>\n",
       "      <td>302</td>\n",
       "      <td>Maths</td>\n",
       "    </tr>\n",
       "  </tbody>\n",
       "</table>\n",
       "</div>"
      ],
      "text/plain": [
       "   year  District Number District Name  Grade  Mean Scale Score  subject\n",
       "0  2017                1       ALACHUA      3                302   Maths\n",
       "1  2017                2         BAKER      3                307   Maths\n",
       "2  2017                3           BAY      3                299   Maths\n",
       "3  2017                4      BRADFORD      3                297   Maths\n",
       "4  2017                5       BREVARD      3                302   Maths"
      ]
     },
     "execution_count": 18,
     "metadata": {},
     "output_type": "execute_result"
    }
   ],
   "source": [
    "### final table for florida english:\n",
    "#### it contains for each year, for district, for each grade, for each subject the mean scale scores\n",
    "\n",
    "df_flor_fin_1_maths = df_flor_fin_1\n",
    "df_flor_fin_1_maths['subject'] = 'Maths'\n",
    "df_flor_fin_1_maths.head()"
   ]
  },
  {
   "cell_type": "code",
   "execution_count": 19,
   "id": "9e0a389f",
   "metadata": {},
   "outputs": [
    {
     "name": "stdout",
     "output_type": "stream",
     "text": [
      "(2937, 6)\n"
     ]
    },
    {
     "data": {
      "text/html": [
       "<div>\n",
       "<style scoped>\n",
       "    .dataframe tbody tr th:only-of-type {\n",
       "        vertical-align: middle;\n",
       "    }\n",
       "\n",
       "    .dataframe tbody tr th {\n",
       "        vertical-align: top;\n",
       "    }\n",
       "\n",
       "    .dataframe thead th {\n",
       "        text-align: right;\n",
       "    }\n",
       "</style>\n",
       "<table border=\"1\" class=\"dataframe\">\n",
       "  <thead>\n",
       "    <tr style=\"text-align: right;\">\n",
       "      <th></th>\n",
       "      <th>year</th>\n",
       "      <th>District Number</th>\n",
       "      <th>District Name</th>\n",
       "      <th>Grade</th>\n",
       "      <th>Mean Scale Score</th>\n",
       "      <th>subject</th>\n",
       "    </tr>\n",
       "  </thead>\n",
       "  <tbody>\n",
       "    <tr>\n",
       "      <th>0</th>\n",
       "      <td>2017</td>\n",
       "      <td>1</td>\n",
       "      <td>ALACHUA</td>\n",
       "      <td>3</td>\n",
       "      <td>302</td>\n",
       "      <td>Maths</td>\n",
       "    </tr>\n",
       "    <tr>\n",
       "      <th>1</th>\n",
       "      <td>2017</td>\n",
       "      <td>2</td>\n",
       "      <td>BAKER</td>\n",
       "      <td>3</td>\n",
       "      <td>307</td>\n",
       "      <td>Maths</td>\n",
       "    </tr>\n",
       "    <tr>\n",
       "      <th>2</th>\n",
       "      <td>2017</td>\n",
       "      <td>3</td>\n",
       "      <td>BAY</td>\n",
       "      <td>3</td>\n",
       "      <td>299</td>\n",
       "      <td>Maths</td>\n",
       "    </tr>\n",
       "    <tr>\n",
       "      <th>3</th>\n",
       "      <td>2017</td>\n",
       "      <td>4</td>\n",
       "      <td>BRADFORD</td>\n",
       "      <td>3</td>\n",
       "      <td>297</td>\n",
       "      <td>Maths</td>\n",
       "    </tr>\n",
       "    <tr>\n",
       "      <th>4</th>\n",
       "      <td>2017</td>\n",
       "      <td>5</td>\n",
       "      <td>BREVARD</td>\n",
       "      <td>3</td>\n",
       "      <td>302</td>\n",
       "      <td>Maths</td>\n",
       "    </tr>\n",
       "  </tbody>\n",
       "</table>\n",
       "</div>"
      ],
      "text/plain": [
       "   year District Number District Name  Grade  Mean Scale Score  subject\n",
       "0  2017               1       ALACHUA      3                302   Maths\n",
       "1  2017               2         BAKER      3                307   Maths\n",
       "2  2017               3           BAY      3                299   Maths\n",
       "3  2017               4      BRADFORD      3                297   Maths\n",
       "4  2017               5       BREVARD      3                302   Maths"
      ]
     },
     "execution_count": 19,
     "metadata": {},
     "output_type": "execute_result"
    }
   ],
   "source": [
    "## final table for florida\n",
    "## year wise, distrcit wist, grade wise, subject wise \n",
    "\n",
    "df_flor_fin_1 = pd.concat([df_flor_fin_1_maths,df_flor_fin_1_eng])\n",
    "print(df_flor_fin_1.shape)\n",
    "\n",
    "df_flor_fin_1.to_csv('C:/Users/ameen/Desktop/Covid_learning_gap_ML_project_17_oct/datasets_processed/florida.csv')\n",
    "df_flor_fin_1.head()"
   ]
  }
 ],
 "metadata": {
  "kernelspec": {
   "display_name": "Python 3 (ipykernel)",
   "language": "python",
   "name": "python3"
  },
  "language_info": {
   "codemirror_mode": {
    "name": "ipython",
    "version": 3
   },
   "file_extension": ".py",
   "mimetype": "text/x-python",
   "name": "python",
   "nbconvert_exporter": "python",
   "pygments_lexer": "ipython3",
   "version": "3.9.13"
  }
 },
 "nbformat": 4,
 "nbformat_minor": 5
}
