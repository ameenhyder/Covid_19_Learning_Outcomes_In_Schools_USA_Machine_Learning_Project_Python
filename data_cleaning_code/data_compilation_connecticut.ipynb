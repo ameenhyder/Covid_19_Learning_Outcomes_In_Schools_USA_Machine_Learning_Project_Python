{
 "cells": [
  {
   "cell_type": "code",
   "execution_count": 1,
   "metadata": {
    "id": "wD7QgoZzFoi4"
   },
   "outputs": [],
   "source": [
    "import pandas as pd\n",
    "import numpy as np"
   ]
  },
  {
   "cell_type": "markdown",
   "metadata": {},
   "source": [
    "## Data Cleaning for Connecticut"
   ]
  },
  {
   "cell_type": "code",
   "execution_count": 2,
   "metadata": {
    "colab": {
     "base_uri": "https://localhost:8080/",
     "height": 301
    },
    "executionInfo": {
     "elapsed": 213024,
     "status": "ok",
     "timestamp": 1666473580054,
     "user": {
      "displayName": "Yanling Shen",
      "userId": "00933380804139221522"
     },
     "user_tz": 240
    },
    "id": "4MAiA8mLFrbn",
    "outputId": "086b9f0c-fb3b-4fc2-a051-28f4af7c932b"
   },
   "outputs": [],
   "source": [
    "#### loading data for conniticut Data\n",
    "\n",
    "path = \"C:/Users/ameen/Desktop/Covid_learning_gap_ML_project_17_oct/datasets/connecticut\"\n",
    "\n",
    "df2017_path = path + \"/2017_connecticut.csv\"\n",
    "df2018_path = path + \"/2018_connecticut.csv\"\n",
    "df2019_path = path + \"/2019_connecticut.csv\"\n",
    "df2021_path = path + \"/2021_connecticut.csv\"\n",
    "\n",
    "df2017 = pd.read_csv(df2017_path)\n",
    "df2018 = pd.read_csv(df2018_path)\n",
    "df2019 = pd.read_csv(df2019_path)\n",
    "df2021 = pd.read_csv(df2021_path)\n",
    "\n",
    "df2017[\"year\"] = '2017'\n",
    "df2018[\"year\"] = '2018'\n",
    "df2019[\"year\"] = '2019'\n",
    "df2021[\"year\"] = '2021'\n",
    "\n",
    "###2017 has different naming conventions\n",
    "#df2017 = df2017[['year','Level','District Code','District \\nName','School \\nName','Content','Test', 'Mean \\nScale \\nScore']]"
   ]
  },
  {
   "cell_type": "code",
   "execution_count": 3,
   "metadata": {
    "id": "KcDBsknYF4Dx"
   },
   "outputs": [
    {
     "name": "stdout",
     "output_type": "stream",
     "text": [
      "(5713, 22)\n",
      "(5817, 22)\n",
      "(5762, 22)\n",
      "(5898, 22)\n"
     ]
    }
   ],
   "source": [
    "print(df2017.shape)\n",
    "print(df2018.shape)\n",
    "print(df2019.shape)\n",
    "print(df2021.shape)\n",
    "\n",
    "## all files has same columns. Thats good sign"
   ]
  },
  {
   "cell_type": "code",
   "execution_count": 4,
   "metadata": {
    "colab": {
     "base_uri": "https://localhost:8080/"
    },
    "executionInfo": {
     "elapsed": 166,
     "status": "ok",
     "timestamp": 1666473881846,
     "user": {
      "displayName": "Yanling Shen",
      "userId": "00933380804139221522"
     },
     "user_tz": 240
    },
    "id": "vQBepLS4Qf8N",
    "outputId": "26be631b-bd79-41e4-fffd-d5849874e7ac"
   },
   "outputs": [
    {
     "name": "stdout",
     "output_type": "stream",
     "text": [
      "Index(['year', 'District', 'District Code', 'School', 'School Code', 'Grade',\n",
      "       'Subject', 'Average VSS'],\n",
      "      dtype='object')\n",
      "(23190, 8)\n"
     ]
    }
   ],
   "source": [
    "relevant_col = ['year','District','District Code','School', 'School Code','Grade', 'Subject','Average VSS']\n",
    "\n",
    "df2017 = df2017[relevant_col]\n",
    "df2018 = df2018[relevant_col]\n",
    "df2019 = df2019[relevant_col]\n",
    "df2021 = df2021[relevant_col]\n",
    "\n",
    "df_conn = pd.concat([df2017,df2018,df2019,df2021])\n",
    "\n",
    "#df_col.columns = np.array(['year','Level','District_Code','District_Name', 'School_Name','Content', 'Grade','Mean_Scale_Score'])\n",
    "#df_col.head()\n",
    "\n",
    "print(df_conn.columns)\n",
    "print(df_conn.shape)"
   ]
  },
  {
   "cell_type": "code",
   "execution_count": 5,
   "metadata": {
    "colab": {
     "base_uri": "https://localhost:8080/",
     "height": 716
    },
    "executionInfo": {
     "elapsed": 158,
     "status": "ok",
     "timestamp": 1666473889117,
     "user": {
      "displayName": "Yanling Shen",
      "userId": "00933380804139221522"
     },
     "user_tz": 240
    },
    "id": "c4AlsqDIbo0k",
    "outputId": "de19cb34-dc12-4285-cbb4-231ceccb6c38"
   },
   "outputs": [
    {
     "name": "stdout",
     "output_type": "stream",
     "text": [
      "couunt of NA values in year\n",
      "0\n",
      "couunt of NA values in District\n",
      "0\n",
      "couunt of NA values in District Code\n",
      "0\n",
      "couunt of NA values in School\n",
      "0\n",
      "couunt of NA values in School Code\n",
      "0\n",
      "couunt of NA values in Grade\n",
      "0\n",
      "couunt of NA values in Subject\n",
      "0\n",
      "couunt of NA values in Average VSS\n",
      "0\n",
      "*       3145\n",
      "2485     131\n",
      "2481     127\n",
      "2514     126\n",
      "2503     124\n",
      "        ... \n",
      "2684       1\n",
      "2285       1\n",
      "2275       1\n",
      "2666       1\n",
      "2269       1\n",
      "Name: Average VSS, Length: 388, dtype: int64\n"
     ]
    }
   ],
   "source": [
    "df = df_conn\n",
    "\n",
    "for col in df:\n",
    "    print(\"couunt of NA values in\", col)\n",
    "    print(df[col].isnull().sum())\n",
    "    \n",
    "print(df[\"Average VSS\"].value_counts().sort_values(ascending = False))"
   ]
  },
  {
   "cell_type": "code",
   "execution_count": 6,
   "metadata": {
    "colab": {
     "base_uri": "https://localhost:8080/",
     "height": 206
    },
    "executionInfo": {
     "elapsed": 163,
     "status": "ok",
     "timestamp": 1666480158204,
     "user": {
      "displayName": "Yanling Shen",
      "userId": "00933380804139221522"
     },
     "user_tz": 240
    },
    "id": "9iWoQR9-lhhE",
    "outputId": "075972c2-39bb-4b4b-8701-e0e99be8fc90"
   },
   "outputs": [
    {
     "name": "stdout",
     "output_type": "stream",
     "text": [
      "(23190, 8)\n",
      "['2017' '2018' '2019' '2021']\n",
      "['Achievement First Bridgeport Academy District'\n",
      " 'Achievement First Hartford Academy District' 'Amistad Academy District'\n",
      " 'Andover School District' 'Ansonia School District'\n",
      " 'Area Cooperative Educational Services' 'Ashford School District'\n",
      " 'Avon School District' 'Barkhamsted School District'\n",
      " 'Berlin School District' 'Bethany School District'\n",
      " 'Bethel School District' 'Bloomfield School District'\n",
      " 'Bolton School District' 'Booker T. Washington Academy District'\n",
      " 'Bozrah School District' 'Branford School District'\n",
      " 'Brass City Charter School District' 'Bridgeport School District'\n",
      " 'Bristol School District' 'Brookfield School District'\n",
      " 'Brooklyn School District' 'Canaan School District'\n",
      " 'Canterbury School District' 'Canton School District'\n",
      " 'Capital Preparatory Harbor School District'\n",
      " 'Capitol Region Education Council' 'Chaplin School District'\n",
      " 'Cheshire School District' 'Chester School District'\n",
      " 'Clinton School District' 'Colchester School District'\n",
      " 'Colebrook School District' 'Columbia School District'\n",
      " 'Cooperative Educational Services' 'Cornwall School District'\n",
      " 'Coventry School District' 'Cromwell School District'\n",
      " 'Danbury School District' 'Darien School District'\n",
      " 'Deep River School District' 'Derby School District'\n",
      " 'East Granby School District' 'East Haddam School District'\n",
      " 'East Hampton School District' 'East Hartford School District'\n",
      " 'East Haven School District' 'East Lyme School District'\n",
      " 'East Windsor School District'\n",
      " 'Eastern Connecticut Regional Educational Service Center (EASTCONN)'\n",
      " 'Eastford School District' 'Easton School District' 'EdAdvance'\n",
      " 'Ellington School District'\n",
      " 'Elm City College Preparatory School District' 'Enfield School District'\n",
      " 'Essex School District' 'Fairfield School District'\n",
      " 'Farmington School District' 'Franklin School District'\n",
      " 'Glastonbury School District' 'Granby School District'\n",
      " 'Great Oaks Charter School District' 'Greenwich School District'\n",
      " 'Griswold School District' 'Groton School District'\n",
      " 'Guilford School District' 'Hamden School District'\n",
      " 'Hampton School District' 'Hartford School District'\n",
      " 'Hartland School District' 'Hebron School District'\n",
      " 'Highville Charter School District'\n",
      " 'Integrated Day Charter School District'\n",
      " 'Interdistrict School for Arts and Comm District'\n",
      " 'Jumoke Academy District' 'Kent School District'\n",
      " 'Killingly School District' 'Learn' 'Lebanon School District'\n",
      " 'Ledyard School District' 'Lisbon School District'\n",
      " 'Litchfield School District' 'Madison School District'\n",
      " 'Manchester School District' 'Mansfield School District'\n",
      " 'Marlborough School District' 'Meriden School District'\n",
      " 'Middletown School District' 'Milford School District'\n",
      " 'Monroe School District' 'Montville School District'\n",
      " 'Naugatuck School District' 'New Beginnings Inc Family Academy District'\n",
      " 'New Britain School District' 'New Canaan School District'\n",
      " 'New Fairfield School District' 'New Hartford School District'\n",
      " 'New Haven School District' 'New London School District'\n",
      " 'New Milford School District' 'Newington School District'\n",
      " 'Newtown School District' 'Norfolk School District'\n",
      " 'North Branford School District' 'North Canaan School District'\n",
      " 'North Haven School District' 'North Stonington School District'\n",
      " 'Norwalk School District' 'Norwich School District'\n",
      " 'Odyssey Community School District' 'Old Saybrook School District'\n",
      " 'Orange School District' 'Oxford School District'\n",
      " 'Park City Prep Charter School District' 'Plainfield School District'\n",
      " 'Plainville School District' 'Plymouth School District'\n",
      " 'Pomfret School District' 'Portland School District'\n",
      " 'Preston School District' 'Putnam School District'\n",
      " 'Redding School District' 'Regional School District 01'\n",
      " 'Regional School District 04' 'Regional School District 05'\n",
      " 'Regional School District 06' 'Regional School District 07'\n",
      " 'Regional School District 08' 'Regional School District 10'\n",
      " 'Regional School District 11' 'Regional School District 12'\n",
      " 'Regional School District 13' 'Regional School District 14'\n",
      " 'Regional School District 15' 'Regional School District 16'\n",
      " 'Regional School District 17' 'Regional School District 18'\n",
      " 'Ridgefield School District' 'Rocky Hill School District'\n",
      " 'Salem School District' 'Salisbury School District'\n",
      " 'Scotland School District' 'Seymour School District'\n",
      " 'Sharon School District' 'Shelton School District'\n",
      " 'Sherman School District' 'Side By Side Charter School District'\n",
      " 'Simsbury School District' 'Somers School District'\n",
      " 'South Windsor School District' 'Southington School District'\n",
      " 'Sprague School District' 'Stafford School District'\n",
      " 'Stamford School District' 'Sterling School District'\n",
      " 'Stonington School District' 'Stratford School District'\n",
      " 'Suffield School District' 'The Bridge Academy District'\n",
      " 'The Gilbert School District' 'Thomaston School District'\n",
      " 'Thompson School District' 'Tolland School District'\n",
      " 'Torrington School District' 'Trailblazers Academy District'\n",
      " 'Trumbull School District' 'Unified School District #2'\n",
      " 'Union School District' 'Vernon School District'\n",
      " 'Voluntown School District' 'Wallingford School District'\n",
      " 'Waterbury School District' 'Waterford School District'\n",
      " 'Watertown School District' 'West Hartford School District'\n",
      " 'West Haven School District' 'Westbrook School District'\n",
      " 'Weston School District' 'Westport School District'\n",
      " 'Wethersfield School District' 'Willington School District'\n",
      " 'Wilton School District' 'Winchester School District'\n",
      " 'Windham School District' 'Windsor Locks School District'\n",
      " 'Windsor School District' 'Wolcott School District'\n",
      " 'Woodbridge School District' 'Woodstock School District'\n",
      " 'Elm City Montessori School District'\n",
      " 'Stamford Charter School for Excellence District'\n",
      " 'Goodwin University Educational Services (GUES)']\n",
      "[2850013 2880013 2790013   10011   20011 2440014   30011   40011   50011\n",
      "   70011   80011   90011  110011  120011 2950013  130011  140011 2900013\n",
      "  150011  170011  180011  190011  210011  220011  230011 2970013 2410014\n",
      "  240011  250011  260011  270011  280011  290011  300011 2430014  310011\n",
      "  320011  330011  340011  350011  360011  370011  400011  410011  420011\n",
      "  430011  440011  450011  470011 2530014  390011  460011 2420014  480011\n",
      " 2890013  490011  500011  510011  520011  530011  540011  560011 2940013\n",
      "  570011  580011  590011  600011  620011  630011  640011  650011  670011\n",
      " 2860013 2640013 2650013 2610013  680011  690011 2450014  710011  720011\n",
      "  730011  740011  760011  770011  780011  790011  800011  830011  840011\n",
      "  850011  860011  880011 2800013  890011  900011  910011  920011  930011\n",
      "  950011  960011  940011  970011  980011  990011 1000011 1010011 1020011\n",
      " 1030011 1040011 2630013 1060011 1070011 1080011 2830013 1090011 1100011\n",
      " 1110011 1120011 1130011 1140011 1160011 1170011 2010012 2040012 2050012\n",
      " 2060012 2070012 2080012 2100012 2110012 2120012 2130012 2140012 2150012\n",
      " 2160012 2170012 2180012 1180011 1190011 1210011 1220011 1230011 1240011\n",
      " 1250011 1260011 1270011 2700013 1280011 1290011 1320011 1310011 1330011\n",
      " 1340011 1350011 1360011 1370011 1380011 1390011 2690013 9020022 1400011\n",
      " 1410011 1420011 1430011 2780013 1440011 3470015 1450011 1460011 1470011\n",
      " 1480011 1510011 1520011 1530011 1550011 1560011 1540011 1570011 1580011\n",
      " 1590011 1600011 1610011 1620011 1630011 1650011 1640011 1660011 1670011\n",
      " 1690011 2910013 2960013 2310018]\n",
      "['Achievement First Bridgeport Academy'\n",
      " 'Achievement First Hartford Academy' 'Amistad Academy' ...\n",
      " 'Medically Fragile Program' 'Natchaug Emotional Disturbance Program'\n",
      " 'SISU Academy']\n",
      "[2850113 2880113 2795113 ... 1610211 1630711 1650311]\n",
      "[3 4 5 6 7 8]\n",
      "['ELA' 'Math']\n",
      "['2495' '2514' '2520' '2535' '2470' '2483' '2492' '2479' '2509' '2500'\n",
      " '2527' '2536' '2464' '2490' '2513' '2529' '2467' '2456' '2517' '2530'\n",
      " '2498' '2583' '2407' '2423' '2480' '2476' '2510' '2511' '2521' '2547'\n",
      " '2553' '2580' '2449' '2499' '2516' '2561' '2548' '2601' '2608' '2528'\n",
      " '2506' '2466' '2429' '2424' '2415' '2438' '2465' '2455' '2472' '2406'\n",
      " '2408' '2434' '2451' '2457' '2493' '*' '2368' '2348' '2433' '2381' '2505'\n",
      " '2534' '2550' '2540' '2405' '2393' '2416' '2482' '2440' '2562' '2478'\n",
      " '2532' '2593' '2566' '2624' '2626' '2647' '2668' '2488' '2526' '2563'\n",
      " '2582' '2463' '2538' '2477' '2569' '2539' '2564' '2570' '2576' '2598'\n",
      " '2443' '2494' '2503' '2525' '2468' '2519' '2459' '2442' '2524' '2551'\n",
      " '2518' '2497' '2508' '2543' '2587' '2453' '2460' '2554' '2590' '2571'\n",
      " '2469' '2473' '2549' '2489' '2515' '2552' '2474' '2382' '2399' '2452'\n",
      " '2444' '2446' '2448' '2507' '2577' '2613' '2612' '2599' '2588' '2485'\n",
      " '2559' '2533' '2531' '2441' '2462' '2491' '2435' '2410' '2430' '2345'\n",
      " '2363' '2357' '2375' '2413' '2419' '2417' '2432' '2373' '2385' '2392'\n",
      " '2411' '2418' '2390' '2431' '2426' '2523' '2545' '2350' '2388' '2486'\n",
      " '2458' '2352' '2360' '2367' '2377' '2391' '2335' '2330' '2359' '2365'\n",
      " '2389' '2396' '2409' '2379' '2421' '2450' '2428' '2412' '2425' '2447'\n",
      " '2522' '2544' '2496' '2327' '2314' '2404' '2439' '2403' '2427' '2333'\n",
      " '2414' '2445' '2326' '2322' '2370' '2420' '2395' '2394' '2422' '2436'\n",
      " '2484' '2481' '2487' '2386' '2366' '2364' '2398' '2387' '2557' '2512'\n",
      " '2347' '2378' '2454' '2318' '2341' '2384' '2397' '2361' '2504' '2556'\n",
      " '2555' '2558' '2324' '2339' '2356' '2376' '2401' '2342' '2351' '2471'\n",
      " '2310' '2331' '2349' '2362' '2502' '2537' '2501' '2574' '2402' '2565'\n",
      " '2575' '2586' '2623' '2541' '2602' '2568' '2461' '2546' '2573' '2597'\n",
      " '2614' '2621' '2542' '2567' '2560' '2475' '2437' '2572' '2578' '2625'\n",
      " '2617' '2605' '2591' '2603' '2627' '2622' '2592' '2589' '2611' '2579'\n",
      " '2594' '2629' '2596' '2585' '2634' '2632' '2641' '2652' '2670' '2581'\n",
      " '2336' '2374' '2372' '2343' '2584' '2615' '2618' '2607' '2630' '2610'\n",
      " '2631' '2650' '2633' '2619' '2642' '2604' '2606' '2609' '2600' '2595'\n",
      " '2645' '2646' '2665' '2620' '2383' '2649' '2371' '2358' '2332' '2328'\n",
      " '2400' '2380' '2344' '2340' '2355' '2369' '2297' '2628' '2654' '2637'\n",
      " '2325' '2638' '2687' '2616' '2636' '2639' '2653' '2287' '2312' '2337'\n",
      " '2354' '2353' '2635' '2282' '2346' '2671' '2334' '2323' '2656' '2667'\n",
      " '2663' '2304' '2338' '2329' '2640' '2682' '2659' '2685' '2644' '2643'\n",
      " '2655' '2276' '2292' '2657' '2686' '2311' '2283' '2302' '2321' '2315'\n",
      " '2313' '2679' '2660' '2658' '2319' '2651' '2696' '2674' '2648' '2307'\n",
      " '2299' '2316' '2298' '2684' '2666' '2317' '2308' '2289' '2320' '2683'\n",
      " '2296' '2309' '2300' '2301' '2285' '2275' '2269']\n"
     ]
    },
    {
     "name": "stdout",
     "output_type": "stream",
     "text": [
      "<class 'pandas.core.frame.DataFrame'>\n",
      "Int64Index: 23190 entries, 0 to 5897\n",
      "Data columns (total 8 columns):\n",
      " #   Column         Non-Null Count  Dtype \n",
      "---  ------         --------------  ----- \n",
      " 0   year           23190 non-null  object\n",
      " 1   District       23190 non-null  object\n",
      " 2   District Code  23190 non-null  int64 \n",
      " 3   School         23190 non-null  object\n",
      " 4   School Code    23190 non-null  int64 \n",
      " 5   Grade          23190 non-null  int64 \n",
      " 6   Subject        23190 non-null  object\n",
      " 7   Average VSS    23190 non-null  object\n",
      "dtypes: int64(3), object(5)\n",
      "memory usage: 1.6+ MB\n"
     ]
    }
   ],
   "source": [
    "### remove NAs:\n",
    "df_conn_fin = df_conn.dropna()\n",
    "print(df_conn_fin.shape)\n",
    "\n",
    "for col in df_conn_fin:\n",
    "    print(df_conn_fin[col].unique())\n",
    "    \n",
    "df_conn_fin.info()"
   ]
  },
  {
   "cell_type": "code",
   "execution_count": 7,
   "metadata": {
    "colab": {
     "base_uri": "https://localhost:8080/"
    },
    "executionInfo": {
     "elapsed": 145,
     "status": "ok",
     "timestamp": 1666474015784,
     "user": {
      "displayName": "Yanling Shen",
      "userId": "00933380804139221522"
     },
     "user_tz": 240
    },
    "id": "3-j2QLnuK9Nf",
    "outputId": "254390cb-e61e-470d-972e-824f4e5f17fd"
   },
   "outputs": [
    {
     "data": {
      "text/plain": [
       "False"
      ]
     },
     "execution_count": 7,
     "metadata": {},
     "output_type": "execute_result"
    }
   ],
   "source": [
    "df_conn_fin.isnull().values.any()"
   ]
  },
  {
   "cell_type": "code",
   "execution_count": 8,
   "metadata": {
    "colab": {
     "base_uri": "https://localhost:8080/",
     "height": 206
    },
    "executionInfo": {
     "elapsed": 143,
     "status": "ok",
     "timestamp": 1666474018107,
     "user": {
      "displayName": "Yanling Shen",
      "userId": "00933380804139221522"
     },
     "user_tz": 240
    },
    "id": "ejI45Bz2MIr6",
    "outputId": "384d47b9-e522-46ae-b6cf-ea546080a28b"
   },
   "outputs": [
    {
     "name": "stdout",
     "output_type": "stream",
     "text": [
      "(23190, 8)\n",
      "(20045, 8)\n",
      "<class 'pandas.core.frame.DataFrame'>\n",
      "Int64Index: 20045 entries, 0 to 5897\n",
      "Data columns (total 8 columns):\n",
      " #   Column         Non-Null Count  Dtype \n",
      "---  ------         --------------  ----- \n",
      " 0   year           20045 non-null  object\n",
      " 1   District       20045 non-null  object\n",
      " 2   District Code  20045 non-null  int64 \n",
      " 3   School         20045 non-null  object\n",
      " 4   School Code    20045 non-null  int64 \n",
      " 5   Grade          20045 non-null  int64 \n",
      " 6   Subject        20045 non-null  object\n",
      " 7   Average VSS    20045 non-null  int32 \n",
      "dtypes: int32(1), int64(3), object(4)\n",
      "memory usage: 1.3+ MB\n"
     ]
    },
    {
     "name": "stderr",
     "output_type": "stream",
     "text": [
      "C:\\Users\\ameen\\AppData\\Local\\Temp\\ipykernel_15692\\3664629743.py:7: SettingWithCopyWarning: \n",
      "A value is trying to be set on a copy of a slice from a DataFrame.\n",
      "Try using .loc[row_indexer,col_indexer] = value instead\n",
      "\n",
      "See the caveats in the documentation: https://pandas.pydata.org/pandas-docs/stable/user_guide/indexing.html#returning-a-view-versus-a-copy\n",
      "  df_conn_fin_1[\"Average VSS\"] = df_conn_fin_1[\"Average VSS\"].astype(int)\n"
     ]
    }
   ],
   "source": [
    "### removing entries with no mean scale score\n",
    "df_conn_fin_1 = df_conn_fin.query(\"`Average VSS` != '*'\")\n",
    "\n",
    "print(df_conn_fin.shape)\n",
    "print(df_conn_fin_1.shape)                              \n",
    "\n",
    "df_conn_fin_1[\"Average VSS\"] = df_conn_fin_1[\"Average VSS\"].astype(int)\n",
    "df_conn_fin_1.info()\n",
    "\n",
    "## around ~3100 entries removed with no average VSS"
   ]
  },
  {
   "cell_type": "code",
   "execution_count": 9,
   "metadata": {
    "id": "xlUmaIx8M5AZ"
   },
   "outputs": [
    {
     "data": {
      "text/html": [
       "<div>\n",
       "<style scoped>\n",
       "    .dataframe tbody tr th:only-of-type {\n",
       "        vertical-align: middle;\n",
       "    }\n",
       "\n",
       "    .dataframe tbody tr th {\n",
       "        vertical-align: top;\n",
       "    }\n",
       "\n",
       "    .dataframe thead th {\n",
       "        text-align: right;\n",
       "    }\n",
       "</style>\n",
       "<table border=\"1\" class=\"dataframe\">\n",
       "  <thead>\n",
       "    <tr style=\"text-align: right;\">\n",
       "      <th></th>\n",
       "      <th>year</th>\n",
       "      <th>District</th>\n",
       "      <th>District Code</th>\n",
       "      <th>School</th>\n",
       "      <th>School Code</th>\n",
       "      <th>Grade</th>\n",
       "      <th>Subject</th>\n",
       "      <th>Average VSS</th>\n",
       "    </tr>\n",
       "  </thead>\n",
       "  <tbody>\n",
       "    <tr>\n",
       "      <th>0</th>\n",
       "      <td>2017</td>\n",
       "      <td>Achievement First Bridgeport Academy District</td>\n",
       "      <td>2850013</td>\n",
       "      <td>Achievement First Bridgeport Academy</td>\n",
       "      <td>2850113</td>\n",
       "      <td>3</td>\n",
       "      <td>ELA</td>\n",
       "      <td>2495</td>\n",
       "    </tr>\n",
       "    <tr>\n",
       "      <th>1</th>\n",
       "      <td>2017</td>\n",
       "      <td>Achievement First Bridgeport Academy District</td>\n",
       "      <td>2850013</td>\n",
       "      <td>Achievement First Bridgeport Academy</td>\n",
       "      <td>2850113</td>\n",
       "      <td>3</td>\n",
       "      <td>Math</td>\n",
       "      <td>2514</td>\n",
       "    </tr>\n",
       "    <tr>\n",
       "      <th>2</th>\n",
       "      <td>2017</td>\n",
       "      <td>Achievement First Bridgeport Academy District</td>\n",
       "      <td>2850013</td>\n",
       "      <td>Achievement First Bridgeport Academy</td>\n",
       "      <td>2850113</td>\n",
       "      <td>4</td>\n",
       "      <td>ELA</td>\n",
       "      <td>2520</td>\n",
       "    </tr>\n",
       "    <tr>\n",
       "      <th>3</th>\n",
       "      <td>2017</td>\n",
       "      <td>Achievement First Bridgeport Academy District</td>\n",
       "      <td>2850013</td>\n",
       "      <td>Achievement First Bridgeport Academy</td>\n",
       "      <td>2850113</td>\n",
       "      <td>4</td>\n",
       "      <td>Math</td>\n",
       "      <td>2535</td>\n",
       "    </tr>\n",
       "    <tr>\n",
       "      <th>4</th>\n",
       "      <td>2017</td>\n",
       "      <td>Achievement First Bridgeport Academy District</td>\n",
       "      <td>2850013</td>\n",
       "      <td>Achievement First Bridgeport Academy</td>\n",
       "      <td>2850113</td>\n",
       "      <td>5</td>\n",
       "      <td>ELA</td>\n",
       "      <td>2470</td>\n",
       "    </tr>\n",
       "  </tbody>\n",
       "</table>\n",
       "</div>"
      ],
      "text/plain": [
       "   year                                       District  District Code  \\\n",
       "0  2017  Achievement First Bridgeport Academy District        2850013   \n",
       "1  2017  Achievement First Bridgeport Academy District        2850013   \n",
       "2  2017  Achievement First Bridgeport Academy District        2850013   \n",
       "3  2017  Achievement First Bridgeport Academy District        2850013   \n",
       "4  2017  Achievement First Bridgeport Academy District        2850013   \n",
       "\n",
       "                                 School  School Code  Grade Subject  \\\n",
       "0  Achievement First Bridgeport Academy      2850113      3     ELA   \n",
       "1  Achievement First Bridgeport Academy      2850113      3    Math   \n",
       "2  Achievement First Bridgeport Academy      2850113      4     ELA   \n",
       "3  Achievement First Bridgeport Academy      2850113      4    Math   \n",
       "4  Achievement First Bridgeport Academy      2850113      5     ELA   \n",
       "\n",
       "   Average VSS  \n",
       "0         2495  \n",
       "1         2514  \n",
       "2         2520  \n",
       "3         2535  \n",
       "4         2470  "
      ]
     },
     "execution_count": 9,
     "metadata": {},
     "output_type": "execute_result"
    }
   ],
   "source": [
    "### final table for connecticut data:\n",
    "#### it contains for each year, for each school, for each grade, for each subject the mean scale scores\n",
    "\n",
    "#df_conn_fin_1.to_csv('C:/Users/ameen/Desktop/Covid_learning_gap_ML_project_17_oct/datasets_processed/connecticut.csv')\n",
    "df_conn_fin_1.head()"
   ]
  },
  {
   "cell_type": "markdown",
   "metadata": {},
   "source": [
    "## District to School Mapping"
   ]
  },
  {
   "cell_type": "code",
   "execution_count": 10,
   "metadata": {},
   "outputs": [
    {
     "name": "stdout",
     "output_type": "stream",
     "text": [
      "shape of old mapping\n",
      "(20045, 2)\n",
      "\n",
      "\n",
      "shape of new mapping\n",
      "(827, 3)\n",
      "\n",
      "\n"
     ]
    },
    {
     "name": "stderr",
     "output_type": "stream",
     "text": [
      "C:\\Users\\ameen\\AppData\\Local\\Temp\\ipykernel_15692\\905993055.py:2: SettingWithCopyWarning: \n",
      "A value is trying to be set on a copy of a slice from a DataFrame.\n",
      "Try using .loc[row_indexer,col_indexer] = value instead\n",
      "\n",
      "See the caveats in the documentation: https://pandas.pydata.org/pandas-docs/stable/user_guide/indexing.html#returning-a-view-versus-a-copy\n",
      "  df_dist_school_map['School'] = df_dist_school_map['School'].astype('str').str.lower()\n",
      "C:\\Users\\ameen\\AppData\\Local\\Temp\\ipykernel_15692\\905993055.py:3: SettingWithCopyWarning: \n",
      "A value is trying to be set on a copy of a slice from a DataFrame.\n",
      "Try using .loc[row_indexer,col_indexer] = value instead\n",
      "\n",
      "See the caveats in the documentation: https://pandas.pydata.org/pandas-docs/stable/user_guide/indexing.html#returning-a-view-versus-a-copy\n",
      "  df_dist_school_map['District'] = df_dist_school_map['District'].astype('str').str.lower()\n"
     ]
    }
   ],
   "source": [
    "df_dist_school_map = df_conn_fin_1[['School','District']]\n",
    "df_dist_school_map['School'] = df_dist_school_map['School'].astype('str').str.lower()\n",
    "df_dist_school_map['District'] = df_dist_school_map['District'].astype('str').str.lower()\n",
    "\n",
    "\n",
    "print('shape of old mapping')\n",
    "print(df_dist_school_map.shape)\n",
    "print('\\n')\n",
    "\n",
    "df_dist_school_map = df_dist_school_map.drop_duplicates(subset = ['School','District'],keep = 'last',inplace=False, ignore_index=False) \n",
    "df_dist_school_map.columns = ['school','district']\n",
    "df_dist_school_map['state'] = 'connecticut'\n",
    "\n",
    "print('shape of new mapping')\n",
    "print(df_dist_school_map.shape)\n",
    "print('\\n')\n",
    "\n",
    "df_dist_school_map.to_csv('C:/Users/ameen/Desktop/Covid_learning_gap_ML_project_17_oct/datasets_processed/connecticut_school_dist_mapping.csv')\n"
   ]
  }
 ],
 "metadata": {
  "colab": {
   "provenance": []
  },
  "kernelspec": {
   "display_name": "Python 3 (ipykernel)",
   "language": "python",
   "name": "python3"
  },
  "language_info": {
   "codemirror_mode": {
    "name": "ipython",
    "version": 3
   },
   "file_extension": ".py",
   "mimetype": "text/x-python",
   "name": "python",
   "nbconvert_exporter": "python",
   "pygments_lexer": "ipython3",
   "version": "3.9.13"
  }
 },
 "nbformat": 4,
 "nbformat_minor": 4
}
